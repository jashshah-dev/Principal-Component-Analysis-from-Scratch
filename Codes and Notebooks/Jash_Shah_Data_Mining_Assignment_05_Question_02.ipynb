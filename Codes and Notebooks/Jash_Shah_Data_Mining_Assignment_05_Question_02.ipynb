{
 "cells": [
  {
   "cell_type": "code",
   "execution_count": 1,
   "id": "733f55d6",
   "metadata": {},
   "outputs": [],
   "source": [
    "import pandas as pd\n",
    "import numpy as np\n",
    "import matplotlib.pyplot as plt\n",
    "import seaborn as sns\n",
    "#import swifter"
   ]
  },
  {
   "cell_type": "code",
   "execution_count": 3,
   "id": "459c2dd0",
   "metadata": {},
   "outputs": [],
   "source": [
    "import swifter"
   ]
  },
  {
   "cell_type": "code",
   "execution_count": 4,
   "id": "b08385f0",
   "metadata": {},
   "outputs": [],
   "source": [
    "df_pancan=pd.read_csv('pancan.csv')\n",
    "df_pancan.drop('Unnamed: 0',axis=1,inplace=True)"
   ]
  },
  {
   "cell_type": "markdown",
   "id": "48f2fc69",
   "metadata": {},
   "source": [
    "# Randomly choose fifty points from Dataset and Standardizing the dataset"
   ]
  },
  {
   "cell_type": "code",
   "execution_count": 64,
   "id": "2bb4eef2",
   "metadata": {},
   "outputs": [
    {
     "data": {
      "text/plain": [
       "(50, 20531)"
      ]
     },
     "execution_count": 64,
     "metadata": {},
     "output_type": "execute_result"
    }
   ],
   "source": [
    "df_pancan_sample=df_pancan.sample(n=50)\n",
    "df_pancan_sample.shape\n"
   ]
  },
  {
   "cell_type": "markdown",
   "id": "d1507443",
   "metadata": {},
   "source": [
    "# Heirarchial Clustering"
   ]
  },
  {
   "cell_type": "code",
   "execution_count": 81,
   "id": "2c732ae5",
   "metadata": {},
   "outputs": [
    {
     "data": {
      "image/png": "[encoded data removed]",
      "text/plain": [
       "<Figure size 720x360 with 1 Axes>"
      ]
     },
     "metadata": {
      "needs_background": "light"
     },
     "output_type": "display_data"
    }
   ],
   "source": [
    "import pandas as pd\n",
    "from scipy.cluster.hierarchy import dendrogram, linkage,fcluster\n",
    "import matplotlib.pyplot as plt\n",
    "from sklearn.preprocessing import StandardScaler\n",
    "\n",
    "scaler = StandardScaler()\n",
    "df_pancan_sample_scaled =pd.DataFrame(scaler.fit_transform(df_pancan_sample))\n",
    "\n",
    "heirarchial_clustering=linkage(df_pancan_sample_scaled,method='complete')\n",
    "\n",
    "# Plot a dendrogram of the hierarchical clustering\n",
    "fig=plt.figure(figsize=(10, 5))\n",
    "dendogram=dendrogram(heirarchial_clustering)\n",
    "distance_threshold = heirarchial_clustering[-5, 2] \n",
    "# display the dendrogram\n",
    "\n",
    "plt.xticks(rotation=90)\n",
    "plt.title('Dendogram of Complete Linkage Clustering of 50 Data Points to get 5 clusters')\n",
    "plt.axhline(y=distance_threshold, c='k')\n",
    "# show the plot\n",
    "plt.show()\n"
   ]
  },
  {
   "cell_type": "markdown",
   "id": "4a18a6b6",
   "metadata": {},
   "source": [
    "# Cutting the Dendogram"
   ]
  },
  {
   "cell_type": "markdown",
   "id": "966a1605",
   "metadata": {},
   "source": [
    "In the code above, heirarchial_clustering variable stores the linkage matrix generated by hierarchical clustering.\n",
    "\n",
    "The linkage matrix has n-1 rows and 4 columns, where n is the number of data points. Each row in the linkage matrix represents a cluster merger, with the first two columns specifying the indices of the clusters being merged, the third column representing the distance between these clusters, and the fourth column indicating the size of the newly formed cluster."
   ]
  },
  {
   "cell_type": "markdown",
   "id": "5ea0e479",
   "metadata": {},
   "source": [
    "In hierarchical clustering, the number of clusters is determined by the distance threshold used to form clusters.\n",
    "\n",
    "In the code above, the distance threshold that results in exactly five clusters is obtained by accessing the distance value corresponding to the fourth last row of the linkage matrix heirarchial_clustring, using the index notation heirarchial_Clustering[-5,2].\n",
    "\n",
    "The reason why this works is because the linkage matrix heirarchial_clustering stores information about the merges that occur during hierarchical clustering in a specific order. The rows of the matrix are sorted in increasing order of the distances between the clusters being merged.\n",
    "\n",
    "To obtain a specific number of clusters, we need to identify the distance threshold that will result in the desired number of clusters. We can do this by looking at the dendrogram and finding the vertical line that intersects with the desired number of clusters. Alternatively, we can use the linkage matrix and count the number of rows that will result in the desired number of clusters.\n",
    "\n",
    "In this case, the [-5, 2] index notation accesses the distance value of the fourth last row of the linkage matrix. This distance value represents the distance between the clusters being merged that will result in five clusters. Therefore, using this distance threshold to form the final clusters will result in exactly five clusters."
   ]
  },
  {
   "cell_type": "code",
   "execution_count": 66,
   "id": "42c80f97",
   "metadata": {},
   "outputs": [
    {
     "name": "stdout",
     "output_type": "stream",
     "text": [
      "[3 4 1 5 2 4 5 5 5 2 4 4 4 4 4 1 5 5 4 4 5 3 4 5 4 5 4 5 5 5 5 4 4 5 4 5 4\n",
      " 4 4 3 4 5 3 3 4 4 4 4 4 3]\n"
     ]
    }
   ],
   "source": [
    "distance_threshold = heirarchial_clustering[-5, 2] \n",
    "from scipy.cluster.hierarchy import fcluster\n",
    "labels = fcluster(heirarchial_clustering, distance_threshold, criterion='distance')\n",
    "print(labels)"
   ]
  },
  {
   "cell_type": "markdown",
   "id": "6d5c77cc",
   "metadata": {},
   "source": [
    "# Error Rate Calculation"
   ]
  },
  {
   "cell_type": "code",
   "execution_count": 67,
   "id": "68c9b78e",
   "metadata": {},
   "outputs": [],
   "source": [
    "def heirarchial_wss(input_dataframe,labels_array,no_of_clusters):\n",
    "    input_dataframe_clustered=input_dataframe.copy()\n",
    "    input_dataframe_clustered['Labels']=labels_array\n",
    "    new_centroids=input_dataframe_clustered.groupby('Labels').mean()\n",
    "    new_centroids=new_centroids.T\n",
    "    total_error=[]\n",
    "    for cluster in range(1,no_of_clusters+1):\n",
    "        df_data_label_cluster=input_dataframe_clustered[input_dataframe_clustered['Labels']==cluster]\n",
    "        df_data_label_cluster=df_data_label_cluster.drop('Labels',axis=1)\n",
    "        centroids=pd.DataFrame(new_centroids[cluster])\n",
    "        euclidean_distance=cdist(df_data_label_cluster,centroids.T,metric='euclidean')\n",
    "        total_error.append(sum(euclidean_distance))\n",
    "    return round(float(''.join(map(str, sum(total_error)))),3)    \n"
   ]
  },
  {
   "cell_type": "code",
   "execution_count": 68,
   "id": "988551fb",
   "metadata": {},
   "outputs": [
    {
     "data": {
      "text/plain": [
       "7839.589"
      ]
     },
     "execution_count": 68,
     "metadata": {},
     "output_type": "execute_result"
    }
   ],
   "source": [
    "heirarchial_wss(df_pancan_sample,labels,5)"
   ]
  },
  {
   "cell_type": "markdown",
   "id": "50c2ae58",
   "metadata": {},
   "source": [
    "# Performing PCA on reduced Dataset"
   ]
  },
  {
   "cell_type": "code",
   "execution_count": 69,
   "id": "f78cf3a8",
   "metadata": {},
   "outputs": [],
   "source": [
    "import matplotlib.pyplot as plt\n",
    "from tqdm import tqdm\n",
    "from sklearn.preprocessing import StandardScaler\n",
    "\n",
    "def covariance(input_dataframe):\n",
    "    '''\n",
    "    This function takse input as a standardized dataframe\n",
    "    '''\n",
    "    input_dataframe_mean = input_dataframe.swifter.apply(np.mean, axis=0)\n",
    "    input_dataframe_centered= input_dataframe-input_dataframe_mean\n",
    "    with tqdm(total=input_dataframe.shape[1], desc=\"Calculating Covariance Matrix\") as pbar:\n",
    "        cov_matrix=np.cov(input_dataframe.T)\n",
    "        pbar.update()\n",
    "    return cov_matrix,input_dataframe_centered\n",
    "\n",
    "def principal_component_analysis(input_dataframe):\n",
    "    '''\n",
    "    This function takes input_dataframe,stadndardizes it and number of components as the number of components required by PC\n",
    "    '''\n",
    "    scaler = StandardScaler()\n",
    "    input_dataframe_scaled =pd.DataFrame(scaler.fit_transform(input_dataframe))\n",
    "    #Calling the covriance function\n",
    "    covariance_matrix,input_dataframe_centered=covariance(input_dataframe_scaled)\n",
    "    #Calculates Covariance Matirx\n",
    "    eigen_values,eigen_vectors=np.linalg.eig(covariance_matrix)\n",
    "    #Calculates Eigen Values and Eigen Vectors\n",
    "    sorted_indices=np.argsort(eigen_values)\n",
    "    #Sort the elements in descending order\n",
    "    sorted_indices=sorted_indices[::-1]\n",
    "    \n",
    "    \n",
    "    explained_variances = eigen_values / np.sum(eigen_values)\n",
    "    variance_explained_ratios = pd.DataFrame(explained_variances[sorted_indices], columns=[\"variance_explained_ratio\"])\n",
    "    variance_explained_ratios[\"cumulative_variance_explained_ratio\"] = variance_explained_ratios[\"variance_explained_ratio\"].cumsum()\n",
    "    #Find the number of components that explain 90% of variance\n",
    "    number_of_components = variance_explained_ratios[\"cumulative_variance_explained_ratio\"][variance_explained_ratios[\"cumulative_variance_explained_ratio\"] <= 0.90].count() + 1\n",
    "    print(variance_explained_ratios)\n",
    "    print(\"Number of Principal components explain 90% of variance are {}\".format(number_of_components))\n",
    "    \n",
    "    \n",
    "    \n",
    "    \n",
    "    #Taking Top Eigen Values and Top Eigen Vectors\n",
    "    top_eigen_values_indices=sorted_indices[:number_of_components]\n",
    "    top_eigen_vectors=eigen_vectors[:,top_eigen_values_indices]\n",
    "    \n",
    "     #Variance Calculations Plot\n",
    "    explained_variances = eigen_values/np.sum(eigen_values)\n",
    "    variance_explained = pd.DataFrame(eigen_values[top_eigen_values_indices] / sum(eigen_values))\n",
    "    variance_explained['PC_Feature']=top_eigen_values_indices\n",
    "    variance_explained_plot=pd.Series(eigen_values[top_eigen_values_indices] / sum(eigen_values))\n",
    "    \n",
    "    \n",
    "    #Cumulative Variance Plot\n",
    "    cumulative_variance_explained = np.cumsum(variance_explained_plot)\n",
    "    cumulative_variance_explained_plot = pd.Series(cumulative_variance_explained)\n",
    "    \n",
    "    \n",
    "    \n",
    "    #Projecting Principal Components \n",
    "    principal_components=input_dataframe_centered.dot(top_eigen_vectors)\n",
    "    principal_components.columns=[f'PC{i+1}' for i in range(number_of_components)]\n",
    "    \n",
    "   \n",
    "    \n",
    "    #Calculate the loadings\n",
    "    loadings = pd.DataFrame(top_eigen_vectors,index=input_dataframe.columns)\n",
    "    \n",
    "    df_principal_components=pd.DataFrame(principal_components, columns=[f'PC{i+1}' for i in range(number_of_components)])\n",
    "    #PLotting the graph \n",
    "    fig, ax = plt.subplots(1, 2, figsize=(12, 5))\n",
    "    ax[0].plot(np.arange(1, number_of_components+1),variance_explained_plot, 'o-')\n",
    "    ax[0].set_xlabel('Principal Component')\n",
    "    ax[0].set_ylabel('Proportion of Variance Explained')\n",
    "    ax[0].set_title('Scree Plot')\n",
    "    \n",
    "    \n",
    "    ax[1].plot(np.arange(1, number_of_components+1),cumulative_variance_explained_plot, 'o-')\n",
    "    ax[1].set_xlabel('Principal Component')\n",
    "    ax[1].set_ylabel('Cumulative Proportion of Variance Explained')\n",
    "    ax[1].set_title('Cumulative Scree Plot')\n",
    "    plt.tight_layout()\n",
    "    plt.show()\n",
    "    \n",
    "    #Correlation between PC1 and PC2\n",
    "    \n",
    "    plt.scatter(principal_components['PC1'], principal_components['PC2'])\n",
    "    plt.xlabel('PC1')\n",
    "    plt.ylabel('PC2')\n",
    "    plt.title('Scatter plot of PC1 against PC2')\n",
    "    plt.show()\n",
    "    \n",
    "    principal_components_temp=principal_components[['PC1','PC2']]\n",
    "    corr_matrix = principal_components_temp.corr()\n",
    "    print('Correlation matrix:')\n",
    "    print(corr_matrix)\n",
    "    \n",
    "    total_variance_explained=cumulative_variance_explained_plot[1]\n",
    "    print(\"The total variance explained by first two PC's is {}\".format(total_variance_explained))\n",
    "\n",
    "    return variance_explained,loadings,principal_components,cumulative_variance_explained\n",
    "    \n",
    "    \n",
    "    \n",
    "    \n",
    "\n"
   ]
  },
  {
   "cell_type": "code",
   "execution_count": 70,
   "id": "04a920ba",
   "metadata": {},
   "outputs": [
    {
     "name": "stderr",
     "output_type": "stream",
     "text": [
      "Calculating Covariance Matrix:   0%|          | 1/20531 [00:07<44:15:24,  7.76s/it]\n"
     ]
    },
    {
     "name": "stdout",
     "output_type": "stream",
     "text": [
      "         variance_explained_ratio  cumulative_variance_explained_ratio\n",
      "0      1.113447e-01-2.198086e-34j                   0.111345-0.000000j\n",
      "1      1.027723e-01-2.028856e-34j                   0.214117-0.000000j\n",
      "2      8.437904e-02-1.665750e-34j                   0.298496-0.000000j\n",
      "3      6.217397e-02-1.227393e-34j                   0.360670-0.000000j\n",
      "4      5.442872e-02-1.074492e-34j                   0.415099-0.000000j\n",
      "...                           ...                                  ...\n",
      "20526 -3.628658e-18+7.163433e-51j                   1.000000-0.000000j\n",
      "20527 -6.109925e-18+1.206177e-50j                   1.000000-0.000000j\n",
      "20528 -6.738159e-18+1.330198e-50j                   1.000000-0.000000j\n",
      "20529 -8.015101e-18+1.134305e-18j                   1.000000+0.000000j\n",
      "20530 -8.015101e-18-1.134305e-18j                   1.000000-0.000000j\n",
      "\n",
      "[20531 rows x 2 columns]\n",
      "Number of Principal components explain 90% of variance are 34\n"
     ]
    },
    {
     "name": "stderr",
     "output_type": "stream",
     "text": [
      "/N/u/javshah/Carbonate/.local/lib/python3.9/site-packages/matplotlib/cbook/__init__.py:1335: ComplexWarning: Casting complex values to real discards the imaginary part\n",
      "  return np.asarray(x, float)\n"
     ]
    },
    {
     "data": {
      "image/png": "[encoded data removed]",
      "text/plain": [
       "<Figure size 864x360 with 2 Axes>"
      ]
     },
     "metadata": {
      "needs_background": "light"
     },
     "output_type": "display_data"
    },
    {
     "name": "stderr",
     "output_type": "stream",
     "text": [
      "/N/u/javshah/Carbonate/.local/lib/python3.9/site-packages/matplotlib/collections.py:192: ComplexWarning: Casting complex values to real discards the imaginary part\n",
      "  offsets = np.asanyarray(offsets, float)\n"
     ]
    },
    {
     "data": {
      "image/png": "[encoded data removed]",
      "text/plain": [
       "<Figure size 432x288 with 1 Axes>"
      ]
     },
     "metadata": {
      "needs_background": "light"
     },
     "output_type": "display_data"
    },
    {
     "name": "stdout",
     "output_type": "stream",
     "text": [
      "Correlation matrix:\n",
      "              PC1           PC2\n",
      "PC1  1.000000e+00 -3.320476e-16\n",
      "PC2 -3.320476e-16  1.000000e+00\n",
      "The total variance explained by first two PC's is (0.21411699772789528+0j)\n"
     ]
    },
    {
     "name": "stderr",
     "output_type": "stream",
     "text": [
      "/N/u/javshah/Carbonate/.local/lib/python3.9/site-packages/pandas/core/internals/managers.py:1768: ComplexWarning: Casting complex values to real discards the imaginary part\n",
      "  arr = arr.astype(dtype, copy=False)\n"
     ]
    }
   ],
   "source": [
    "variance_explained_50,loadings_50,principal_components_50,cumulative_variance_explained_50=principal_component_analysis(df_pancan_sample)"
   ]
  },
  {
   "cell_type": "code",
   "execution_count": 71,
   "id": "018c50d7",
   "metadata": {},
   "outputs": [],
   "source": [
    "variance_explained_50.to_csv('variance_explained_50.csv')\n",
    "loadings_50.to_csv('loadings_50.csv')\n",
    "principal_components_50.to_csv('principal_components_50.csv')\n"
   ]
  },
  {
   "cell_type": "code",
   "execution_count": 74,
   "id": "b9e1f255",
   "metadata": {},
   "outputs": [
    {
     "data": {
      "text/plain": [
       "(50, 34)"
      ]
     },
     "execution_count": 74,
     "metadata": {},
     "output_type": "execute_result"
    }
   ],
   "source": [
    "principal_components_50.shape"
   ]
  },
  {
   "cell_type": "markdown",
   "id": "fdb95eb1",
   "metadata": {},
   "source": [
    "# Heirarchial clustering on reduced dataset"
   ]
  },
  {
   "cell_type": "code",
   "execution_count": 84,
   "id": "8d34d8cb",
   "metadata": {},
   "outputs": [
    {
     "data": {
      "image/png": "[encoded data removed]",
      "text/plain": [
       "<Figure size 720x360 with 1 Axes>"
      ]
     },
     "metadata": {
      "needs_background": "light"
     },
     "output_type": "display_data"
    }
   ],
   "source": [
    "import pandas as pd\n",
    "from scipy.cluster.hierarchy import dendrogram, linkage,fcluster\n",
    "import matplotlib.pyplot as plt\n",
    "\n",
    "heirarchial_clustering=linkage(principal_components_50,method='complete')\n",
    "\n",
    "\n",
    "# plot a dendrogram of the hierarchical clustering\n",
    "fig=plt.figure(figsize=(10, 5))\n",
    "dendogram=dendrogram(heirarchial_clustering)\n",
    "\n",
    "# display the dendrogram\n",
    "\n",
    "plt.xticks(rotation=90)\n",
    "plt.axhline(y=distance_threshold, c='k')\n",
    "plt.title('Heirarchial_clustering on reduced Dataset')\n",
    "# show the plot\n",
    "plt.show()\n",
    "\n"
   ]
  },
  {
   "cell_type": "markdown",
   "id": "09e99ffc",
   "metadata": {},
   "source": [
    "# Cutting the dendograms"
   ]
  },
  {
   "cell_type": "code",
   "execution_count": 76,
   "id": "d717e5d3",
   "metadata": {},
   "outputs": [
    {
     "name": "stdout",
     "output_type": "stream",
     "text": [
      "[3 4 2 5 1 4 5 5 5 1 4 4 4 4 4 5 4 5 5 4 5 3 4 4 4 5 5 5 5 5 5 4 4 5 4 5 4\n",
      " 5 5 3 5 5 3 3 4 4 4 4 4 3]\n"
     ]
    }
   ],
   "source": [
    "distance_threshold = heirarchial_clustering[-5, 2] \n",
    "from scipy.cluster.hierarchy import fcluster\n",
    "labels = fcluster(heirarchial_clustering, distance_threshold, criterion='distance')\n",
    "print(labels)"
   ]
  },
  {
   "cell_type": "code",
   "execution_count": 78,
   "id": "0f0130a1",
   "metadata": {},
   "outputs": [],
   "source": [
    "def complex_euclidean_distance(u, v):\n",
    "    return np.sqrt(np.sum(np.abs(u - v) ** 2))\n",
    "\n",
    "def heirarchial_wss_complex(input_dataframe,labels_array,no_of_clusters):\n",
    "    input_dataframe_clustered=input_dataframe.copy()\n",
    "    input_dataframe_clustered['Labels']=labels_array\n",
    "    new_centroids=input_dataframe_clustered.groupby('Labels').mean()\n",
    "    new_centroids=new_centroids.T\n",
    "    total_error=[]\n",
    "    for cluster in range(1,no_of_clusters+1):\n",
    "        df_data_label_cluster=input_dataframe_clustered[input_dataframe_clustered['Labels']==cluster]\n",
    "        df_data_label_cluster=df_data_label_cluster.drop('Labels',axis=1)\n",
    "        centroids=pd.DataFrame(new_centroids[cluster])\n",
    "        euclidean_distance=cdist(df_data_label_cluster,centroids.T,metric=complex_euclidean_distance)\n",
    "        total_error.append(sum(euclidean_distance))\n",
    "    return round(float(''.join(map(str, sum(total_error)))),3)    \n"
   ]
  },
  {
   "cell_type": "code",
   "execution_count": 79,
   "id": "f3c3a562",
   "metadata": {},
   "outputs": [
    {
     "data": {
      "text/plain": [
       "5600.074"
      ]
     },
     "execution_count": 79,
     "metadata": {},
     "output_type": "execute_result"
    }
   ],
   "source": [
    "heirarchial_wss_complex(principal_components_50,labels,5)"
   ]
  },
  {
   "cell_type": "code",
   "execution_count": 90,
   "id": "10f4769d",
   "metadata": {},
   "outputs": [
    {
     "data": {
      "image/png": "[encoded data removed]",
      "text/plain": [
       "<Figure size 432x288 with 1 Axes>"
      ]
     },
     "metadata": {
      "needs_background": "light"
     },
     "output_type": "display_data"
    }
   ],
   "source": [
    "x=['Before_PCA','After_PCA']\n",
    "y=[7839.589,5600.074]\n",
    "plt.plot(x,y,'o-')\n",
    "plt.title('Decrease in Within Sum of Square Errors')\n",
    "plt.show()"
   ]
  },
  {
   "cell_type": "markdown",
   "id": "26494837",
   "metadata": {},
   "source": [
    "# End of Document"
   ]
  }
 ],
 "metadata": {
  "kernelspec": {
   "display_name": "Python 3 (ipykernel)",
   "language": "python",
   "name": "python3"
  },
  "language_info": {
   "codemirror_mode": {
    "name": "ipython",
    "version": 3
   },
   "file_extension": ".py",
   "mimetype": "text/x-python",
   "name": "python",
   "nbconvert_exporter": "python",
   "pygments_lexer": "ipython3",
   "version": "3.9.8"
  }
 },
 "nbformat": 4,
 "nbformat_minor": 5
}
