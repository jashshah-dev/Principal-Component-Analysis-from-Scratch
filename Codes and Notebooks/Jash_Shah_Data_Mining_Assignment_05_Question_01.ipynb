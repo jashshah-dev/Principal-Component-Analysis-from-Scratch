{
 "cells": [
  {
   "cell_type": "code",
   "execution_count": 1,
   "id": "62bd19aa",
   "metadata": {},
   "outputs": [],
   "source": [
    "import pandas as pd\n",
    "import numpy as np\n",
    "import matplotlib.pyplot as plt\n",
    "import seaborn as sns\n"
   ]
  },
  {
   "cell_type": "code",
   "execution_count": 2,
   "id": "24ebcd01",
   "metadata": {},
   "outputs": [],
   "source": [
    "df_pancan=pd.read_csv('pancan.csv')"
   ]
  },
  {
   "cell_type": "code",
   "execution_count": 3,
   "id": "6d82d4bd",
   "metadata": {},
   "outputs": [],
   "source": [
    "df_pancan.drop('Unnamed: 0',axis=1,inplace=True)"
   ]
  },
  {
   "cell_type": "code",
   "execution_count": 4,
   "id": "ed379081",
   "metadata": {},
   "outputs": [
    {
     "data": {
      "text/plain": [
       "Index(['gene_0', 'gene_1', 'gene_2', 'gene_3', 'gene_4', 'gene_5', 'gene_6',\n",
       "       'gene_7', 'gene_8', 'gene_9',\n",
       "       ...\n",
       "       'gene_20521', 'gene_20522', 'gene_20523', 'gene_20524', 'gene_20525',\n",
       "       'gene_20526', 'gene_20527', 'gene_20528', 'gene_20529', 'gene_20530'],\n",
       "      dtype='object', length=20531)"
      ]
     },
     "execution_count": 4,
     "metadata": {},
     "output_type": "execute_result"
    }
   ],
   "source": [
    "df_pancan.columns"
   ]
  },
  {
   "cell_type": "code",
   "execution_count": 9,
   "id": "7bf89942",
   "metadata": {},
   "outputs": [],
   "source": [
    "import swifter"
   ]
  },
  {
   "cell_type": "markdown",
   "id": "97158430",
   "metadata": {},
   "source": [
    "# Performing EDA on Dataset"
   ]
  },
  {
   "cell_type": "code",
   "execution_count": 7,
   "id": "04e0d43d",
   "metadata": {},
   "outputs": [
    {
     "name": "stdout",
     "output_type": "stream",
     "text": [
      "The Nan Value columns with percentage are as follows\n",
      "Empty DataFrame\n",
      "Columns: [Column_Names, Count_of_Nan_Values, Percentage_of_NAN]\n",
      "Index: []\n"
     ]
    }
   ],
   "source": [
    "df1=pd.DataFrame(df_pancan.isna().sum())\n",
    "df1=df1.reset_index()\n",
    "df1.columns=['Column_Names','Count_of_Nan_Values']\n",
    "df2=df1[df1['Count_of_Nan_Values']!=0].sort_values(by=['Count_of_Nan_Values'],ascending=False)\n",
    "df2['Percentage_of_NAN']=df2['Count_of_Nan_Values']/len(df_pancan)*100\n",
    "print('The Nan Value columns with percentage are as follows')\n",
    "print(df2)"
   ]
  },
  {
   "cell_type": "code",
   "execution_count": 8,
   "id": "670ad359",
   "metadata": {},
   "outputs": [
    {
     "data": {
      "text/plain": [
       "(801, 20531)"
      ]
     },
     "execution_count": 8,
     "metadata": {},
     "output_type": "execute_result"
    }
   ],
   "source": [
    "df_pancan.shape"
   ]
  },
  {
   "cell_type": "markdown",
   "id": "854c23ea",
   "metadata": {},
   "source": [
    "# Performing Feature Engineering on Dataset"
   ]
  },
  {
   "cell_type": "code",
   "execution_count": 65,
   "id": "b59e4940",
   "metadata": {},
   "outputs": [
    {
     "data": {
      "text/plain": [
       "(801, 20531)"
      ]
     },
     "execution_count": 65,
     "metadata": {},
     "output_type": "execute_result"
    }
   ],
   "source": [
    "df_pancan.shape"
   ]
  },
  {
   "cell_type": "code",
   "execution_count": 37,
   "id": "b5dcc9a9",
   "metadata": {},
   "outputs": [
    {
     "data": {
      "text/html": [
       "<div>\n",
       "<style scoped>\n",
       "    .dataframe tbody tr th:only-of-type {\n",
       "        vertical-align: middle;\n",
       "    }\n",
       "\n",
       "    .dataframe tbody tr th {\n",
       "        vertical-align: top;\n",
       "    }\n",
       "\n",
       "    .dataframe thead th {\n",
       "        text-align: right;\n",
       "    }\n",
       "</style>\n",
       "<table border=\"1\" class=\"dataframe\">\n",
       "  <thead>\n",
       "    <tr style=\"text-align: right;\">\n",
       "      <th></th>\n",
       "      <th>gene_1</th>\n",
       "      <th>gene_2</th>\n",
       "      <th>gene_3</th>\n",
       "      <th>gene_4</th>\n",
       "      <th>gene_5</th>\n",
       "      <th>gene_6</th>\n",
       "      <th>gene_7</th>\n",
       "      <th>gene_8</th>\n",
       "      <th>gene_9</th>\n",
       "      <th>gene_10</th>\n",
       "      <th>...</th>\n",
       "      <th>gene_2990</th>\n",
       "      <th>gene_2991</th>\n",
       "      <th>gene_2992</th>\n",
       "      <th>gene_2993</th>\n",
       "      <th>gene_2994</th>\n",
       "      <th>gene_2995</th>\n",
       "      <th>gene_2996</th>\n",
       "      <th>gene_2997</th>\n",
       "      <th>gene_2998</th>\n",
       "      <th>gene_2999</th>\n",
       "    </tr>\n",
       "  </thead>\n",
       "  <tbody>\n",
       "    <tr>\n",
       "      <th>0</th>\n",
       "      <td>2.017209</td>\n",
       "      <td>3.265527</td>\n",
       "      <td>5.478487</td>\n",
       "      <td>10.431999</td>\n",
       "      <td>0.0</td>\n",
       "      <td>7.175175</td>\n",
       "      <td>0.591871</td>\n",
       "      <td>0.0</td>\n",
       "      <td>0.000000</td>\n",
       "      <td>0.591871</td>\n",
       "      <td>...</td>\n",
       "      <td>9.915684</td>\n",
       "      <td>9.053885</td>\n",
       "      <td>6.890690</td>\n",
       "      <td>3.188164</td>\n",
       "      <td>0.000000</td>\n",
       "      <td>7.070196</td>\n",
       "      <td>8.268364</td>\n",
       "      <td>8.455072</td>\n",
       "      <td>8.154854</td>\n",
       "      <td>0.000000</td>\n",
       "    </tr>\n",
       "    <tr>\n",
       "      <th>1</th>\n",
       "      <td>0.592732</td>\n",
       "      <td>1.588421</td>\n",
       "      <td>7.586157</td>\n",
       "      <td>9.623011</td>\n",
       "      <td>0.0</td>\n",
       "      <td>6.816049</td>\n",
       "      <td>0.000000</td>\n",
       "      <td>0.0</td>\n",
       "      <td>0.000000</td>\n",
       "      <td>0.000000</td>\n",
       "      <td>...</td>\n",
       "      <td>9.523584</td>\n",
       "      <td>8.877576</td>\n",
       "      <td>9.226111</td>\n",
       "      <td>0.811142</td>\n",
       "      <td>0.000000</td>\n",
       "      <td>10.018242</td>\n",
       "      <td>10.229143</td>\n",
       "      <td>9.673654</td>\n",
       "      <td>11.738924</td>\n",
       "      <td>5.601049</td>\n",
       "    </tr>\n",
       "    <tr>\n",
       "      <th>2</th>\n",
       "      <td>3.511759</td>\n",
       "      <td>4.327199</td>\n",
       "      <td>6.881787</td>\n",
       "      <td>9.870730</td>\n",
       "      <td>0.0</td>\n",
       "      <td>6.972130</td>\n",
       "      <td>0.452595</td>\n",
       "      <td>0.0</td>\n",
       "      <td>0.000000</td>\n",
       "      <td>0.000000</td>\n",
       "      <td>...</td>\n",
       "      <td>9.221672</td>\n",
       "      <td>9.135927</td>\n",
       "      <td>7.459718</td>\n",
       "      <td>0.000000</td>\n",
       "      <td>0.000000</td>\n",
       "      <td>5.014445</td>\n",
       "      <td>5.094422</td>\n",
       "      <td>10.153438</td>\n",
       "      <td>8.683465</td>\n",
       "      <td>0.452595</td>\n",
       "    </tr>\n",
       "    <tr>\n",
       "      <th>3</th>\n",
       "      <td>3.663618</td>\n",
       "      <td>4.507649</td>\n",
       "      <td>6.659068</td>\n",
       "      <td>10.196184</td>\n",
       "      <td>0.0</td>\n",
       "      <td>7.843375</td>\n",
       "      <td>0.434882</td>\n",
       "      <td>0.0</td>\n",
       "      <td>0.000000</td>\n",
       "      <td>0.000000</td>\n",
       "      <td>...</td>\n",
       "      <td>9.122766</td>\n",
       "      <td>8.997450</td>\n",
       "      <td>7.798491</td>\n",
       "      <td>1.039419</td>\n",
       "      <td>1.039419</td>\n",
       "      <td>5.640933</td>\n",
       "      <td>9.745358</td>\n",
       "      <td>9.477092</td>\n",
       "      <td>8.159619</td>\n",
       "      <td>0.000000</td>\n",
       "    </tr>\n",
       "    <tr>\n",
       "      <th>4</th>\n",
       "      <td>2.655741</td>\n",
       "      <td>2.821547</td>\n",
       "      <td>6.539454</td>\n",
       "      <td>9.738265</td>\n",
       "      <td>0.0</td>\n",
       "      <td>6.566967</td>\n",
       "      <td>0.360982</td>\n",
       "      <td>0.0</td>\n",
       "      <td>0.000000</td>\n",
       "      <td>0.000000</td>\n",
       "      <td>...</td>\n",
       "      <td>9.648584</td>\n",
       "      <td>10.751527</td>\n",
       "      <td>5.983124</td>\n",
       "      <td>0.889707</td>\n",
       "      <td>8.068778</td>\n",
       "      <td>8.735630</td>\n",
       "      <td>10.255642</td>\n",
       "      <td>9.773836</td>\n",
       "      <td>9.482560</td>\n",
       "      <td>0.000000</td>\n",
       "    </tr>\n",
       "    <tr>\n",
       "      <th>5</th>\n",
       "      <td>3.467853</td>\n",
       "      <td>3.581918</td>\n",
       "      <td>6.620243</td>\n",
       "      <td>9.706829</td>\n",
       "      <td>0.0</td>\n",
       "      <td>7.758510</td>\n",
       "      <td>0.000000</td>\n",
       "      <td>0.0</td>\n",
       "      <td>0.000000</td>\n",
       "      <td>0.515410</td>\n",
       "      <td>...</td>\n",
       "      <td>9.548456</td>\n",
       "      <td>9.585492</td>\n",
       "      <td>6.759449</td>\n",
       "      <td>3.384893</td>\n",
       "      <td>0.000000</td>\n",
       "      <td>7.139285</td>\n",
       "      <td>9.457418</td>\n",
       "      <td>8.571988</td>\n",
       "      <td>9.428942</td>\n",
       "      <td>0.000000</td>\n",
       "    </tr>\n",
       "    <tr>\n",
       "      <th>6</th>\n",
       "      <td>1.224966</td>\n",
       "      <td>1.691177</td>\n",
       "      <td>6.572007</td>\n",
       "      <td>9.640511</td>\n",
       "      <td>0.0</td>\n",
       "      <td>6.754888</td>\n",
       "      <td>0.531868</td>\n",
       "      <td>0.0</td>\n",
       "      <td>0.000000</td>\n",
       "      <td>3.173927</td>\n",
       "      <td>...</td>\n",
       "      <td>10.981888</td>\n",
       "      <td>9.469601</td>\n",
       "      <td>9.122564</td>\n",
       "      <td>2.764643</td>\n",
       "      <td>0.000000</td>\n",
       "      <td>8.183839</td>\n",
       "      <td>9.887982</td>\n",
       "      <td>9.055242</td>\n",
       "      <td>9.809876</td>\n",
       "      <td>1.476796</td>\n",
       "    </tr>\n",
       "    <tr>\n",
       "      <th>7</th>\n",
       "      <td>2.854853</td>\n",
       "      <td>1.750478</td>\n",
       "      <td>7.226720</td>\n",
       "      <td>9.758691</td>\n",
       "      <td>0.0</td>\n",
       "      <td>5.952103</td>\n",
       "      <td>0.000000</td>\n",
       "      <td>0.0</td>\n",
       "      <td>0.000000</td>\n",
       "      <td>0.441802</td>\n",
       "      <td>...</td>\n",
       "      <td>10.078738</td>\n",
       "      <td>9.753910</td>\n",
       "      <td>6.678030</td>\n",
       "      <td>2.405856</td>\n",
       "      <td>0.000000</td>\n",
       "      <td>7.208488</td>\n",
       "      <td>8.910238</td>\n",
       "      <td>8.742966</td>\n",
       "      <td>9.442390</td>\n",
       "      <td>0.441802</td>\n",
       "    </tr>\n",
       "    <tr>\n",
       "      <th>8</th>\n",
       "      <td>3.992125</td>\n",
       "      <td>2.772730</td>\n",
       "      <td>6.546692</td>\n",
       "      <td>10.488252</td>\n",
       "      <td>0.0</td>\n",
       "      <td>7.690222</td>\n",
       "      <td>0.352307</td>\n",
       "      <td>0.0</td>\n",
       "      <td>4.067604</td>\n",
       "      <td>1.411318</td>\n",
       "      <td>...</td>\n",
       "      <td>9.309833</td>\n",
       "      <td>11.800819</td>\n",
       "      <td>7.015181</td>\n",
       "      <td>1.074848</td>\n",
       "      <td>5.107336</td>\n",
       "      <td>8.920475</td>\n",
       "      <td>11.254468</td>\n",
       "      <td>10.153603</td>\n",
       "      <td>9.088968</td>\n",
       "      <td>1.554049</td>\n",
       "    </tr>\n",
       "    <tr>\n",
       "      <th>9</th>\n",
       "      <td>3.642494</td>\n",
       "      <td>4.423558</td>\n",
       "      <td>6.849511</td>\n",
       "      <td>9.464466</td>\n",
       "      <td>0.0</td>\n",
       "      <td>7.947216</td>\n",
       "      <td>0.724214</td>\n",
       "      <td>0.0</td>\n",
       "      <td>0.000000</td>\n",
       "      <td>0.000000</td>\n",
       "      <td>...</td>\n",
       "      <td>9.573742</td>\n",
       "      <td>9.873320</td>\n",
       "      <td>5.714457</td>\n",
       "      <td>1.204141</td>\n",
       "      <td>0.000000</td>\n",
       "      <td>5.229273</td>\n",
       "      <td>9.165171</td>\n",
       "      <td>8.857726</td>\n",
       "      <td>8.699295</td>\n",
       "      <td>0.000000</td>\n",
       "    </tr>\n",
       "  </tbody>\n",
       "</table>\n",
       "<p>10 rows × 2999 columns</p>\n",
       "</div>"
      ],
      "text/plain": [
       "     gene_1    gene_2    gene_3     gene_4  gene_5    gene_6    gene_7  \\\n",
       "0  2.017209  3.265527  5.478487  10.431999     0.0  7.175175  0.591871   \n",
       "1  0.592732  1.588421  7.586157   9.623011     0.0  6.816049  0.000000   \n",
       "2  3.511759  4.327199  6.881787   9.870730     0.0  6.972130  0.452595   \n",
       "3  3.663618  4.507649  6.659068  10.196184     0.0  7.843375  0.434882   \n",
       "4  2.655741  2.821547  6.539454   9.738265     0.0  6.566967  0.360982   \n",
       "5  3.467853  3.581918  6.620243   9.706829     0.0  7.758510  0.000000   \n",
       "6  1.224966  1.691177  6.572007   9.640511     0.0  6.754888  0.531868   \n",
       "7  2.854853  1.750478  7.226720   9.758691     0.0  5.952103  0.000000   \n",
       "8  3.992125  2.772730  6.546692  10.488252     0.0  7.690222  0.352307   \n",
       "9  3.642494  4.423558  6.849511   9.464466     0.0  7.947216  0.724214   \n",
       "\n",
       "   gene_8    gene_9   gene_10  ...  gene_2990  gene_2991  gene_2992  \\\n",
       "0     0.0  0.000000  0.591871  ...   9.915684   9.053885   6.890690   \n",
       "1     0.0  0.000000  0.000000  ...   9.523584   8.877576   9.226111   \n",
       "2     0.0  0.000000  0.000000  ...   9.221672   9.135927   7.459718   \n",
       "3     0.0  0.000000  0.000000  ...   9.122766   8.997450   7.798491   \n",
       "4     0.0  0.000000  0.000000  ...   9.648584  10.751527   5.983124   \n",
       "5     0.0  0.000000  0.515410  ...   9.548456   9.585492   6.759449   \n",
       "6     0.0  0.000000  3.173927  ...  10.981888   9.469601   9.122564   \n",
       "7     0.0  0.000000  0.441802  ...  10.078738   9.753910   6.678030   \n",
       "8     0.0  4.067604  1.411318  ...   9.309833  11.800819   7.015181   \n",
       "9     0.0  0.000000  0.000000  ...   9.573742   9.873320   5.714457   \n",
       "\n",
       "   gene_2993  gene_2994  gene_2995  gene_2996  gene_2997  gene_2998  gene_2999  \n",
       "0   3.188164   0.000000   7.070196   8.268364   8.455072   8.154854   0.000000  \n",
       "1   0.811142   0.000000  10.018242  10.229143   9.673654  11.738924   5.601049  \n",
       "2   0.000000   0.000000   5.014445   5.094422  10.153438   8.683465   0.452595  \n",
       "3   1.039419   1.039419   5.640933   9.745358   9.477092   8.159619   0.000000  \n",
       "4   0.889707   8.068778   8.735630  10.255642   9.773836   9.482560   0.000000  \n",
       "5   3.384893   0.000000   7.139285   9.457418   8.571988   9.428942   0.000000  \n",
       "6   2.764643   0.000000   8.183839   9.887982   9.055242   9.809876   1.476796  \n",
       "7   2.405856   0.000000   7.208488   8.910238   8.742966   9.442390   0.441802  \n",
       "8   1.074848   5.107336   8.920475  11.254468  10.153603   9.088968   1.554049  \n",
       "9   1.204141   0.000000   5.229273   9.165171   8.857726   8.699295   0.000000  \n",
       "\n",
       "[10 rows x 2999 columns]"
      ]
     },
     "execution_count": 37,
     "metadata": {},
     "output_type": "execute_result"
    }
   ],
   "source": [
    "df_sample.head(10)"
   ]
  },
  {
   "cell_type": "markdown",
   "id": "45aee17f",
   "metadata": {},
   "source": [
    "We remove variables with low variance before performing PCA because they do not contribute significantly to the overall variability of the dataset. Variables with low variance are usually not informative and can even introduce noise in the analysis.\n",
    "\n",
    "PCA aims to identify the most significant variables that explain the largest amount of variation in the dataset. By removing variables with low variance, we can focus on the variables that contribute most to the overall variability of the dataset and improve the effectiveness of the PCA analysis.\n",
    "\n",
    "In addition, removing low variance variables can also help reduce the dimensionality of the dataset, which can improve the efficiency of subsequent analyses and reduce computational resources"
   ]
  },
  {
   "cell_type": "code",
   "execution_count": 9,
   "id": "980ca952",
   "metadata": {},
   "outputs": [],
   "source": [
    "#Scaling the Dataframe\n",
    "from sklearn.preprocessing import StandardScaler\n",
    "scaler = StandardScaler()\n",
    "input_dataframe_scaled =pd.DataFrame(scaler.fit_transform(df_pancan))"
   ]
  },
  {
   "cell_type": "code",
   "execution_count": 10,
   "id": "4064b174",
   "metadata": {},
   "outputs": [],
   "source": [
    "from sklearn.feature_selection import VarianceThreshold\n",
    "selector = VarianceThreshold(threshold=0.1)\n",
    "variance_filtered = selector.fit_transform(input_dataframe_scaled)\n",
    "variance_filtered=pd.DataFrame(variance_filtered)"
   ]
  },
  {
   "cell_type": "markdown",
   "id": "8b0928f8",
   "metadata": {},
   "source": [
    "# Performing PCA"
   ]
  },
  {
   "cell_type": "code",
   "execution_count": 53,
   "id": "64d42928",
   "metadata": {},
   "outputs": [],
   "source": [
    "df_sample=df_pancan.copy()\n",
    "df_sample=df_pancan.head(10)\n"
   ]
  },
  {
   "cell_type": "code",
   "execution_count": 86,
   "id": "35fed6e5",
   "metadata": {},
   "outputs": [
    {
     "data": {
      "text/plain": [
       "(801, 299)"
      ]
     },
     "execution_count": 86,
     "metadata": {},
     "output_type": "execute_result"
    }
   ],
   "source": [
    "list_of_columns=[str('gene_'+str(i)) for i in range(1,300)]\n",
    "df_sample=df_pancan[list_of_columns]\n",
    "\n",
    "df_sample.shape"
   ]
  },
  {
   "cell_type": "code",
   "execution_count": 87,
   "id": "0e2c3b15",
   "metadata": {},
   "outputs": [],
   "source": [
    "import matplotlib.pyplot as plt\n",
    "from tqdm import tqdm\n",
    "from sklearn.preprocessing import StandardScaler\n",
    "\n",
    "def covariance(input_dataframe):\n",
    "    '''\n",
    "    This function takse input as a standardized dataframe\n",
    "    '''\n",
    "    input_dataframe_mean = input_dataframe.swifter.apply(np.mean, axis=0)\n",
    "    input_dataframe_centered= input_dataframe-input_dataframe_mean\n",
    "    with tqdm(total=input_dataframe.shape[1], desc=\"Calculating Covariance Matrix\") as pbar:\n",
    "        cov_matrix=np.cov(input_dataframe.T)\n",
    "        pbar.update()\n",
    "    return cov_matrix,input_dataframe_centered\n",
    "\n",
    "def principal_component_analysis(input_dataframe):\n",
    "    '''\n",
    "    This function takes input_dataframe,stadndardizes it and number of components as the number of components required by PC\n",
    "    '''\n",
    "    scaler = StandardScaler()\n",
    "    input_dataframe_scaled =pd.DataFrame(scaler.fit_transform(input_dataframe))\n",
    "    #Calling the covriance function\n",
    "    covariance_matrix,input_dataframe_centered=covariance(input_dataframe_scaled)\n",
    "    #Calculates Covariance Matirx\n",
    "    eigen_values,eigen_vectors=np.linalg.eig(covariance_matrix)\n",
    "    #Calculates Eigen Values and Eigen Vectors\n",
    "    sorted_indices=np.argsort(eigen_values)\n",
    "    #Sort the elements in descending order\n",
    "    sorted_indices=sorted_indices[::-1]\n",
    "    \n",
    "    \n",
    "    explained_variances = eigen_values / np.sum(eigen_values)\n",
    "    \n",
    "    variance_explained_ratios = pd.DataFrame(explained_variances[sorted_indices], columns=[\"variance_explained_ratio\"])\n",
    "    variance_explained_ratios[\"cumulative_variance_explained_ratio\"] = variance_explained_ratios[\"variance_explained_ratio\"].cumsum()\n",
    "    \n",
    "    #Find the number of components that explain 90% of variance\n",
    "    number_of_components = variance_explained_ratios[\"cumulative_variance_explained_ratio\"][variance_explained_ratios[\"cumulative_variance_explained_ratio\"] <= 0.90].count() + 1\n",
    "    \n",
    "    print(\"Number of Principal components explain 90% of variance are {}\".format(number_of_components))\n",
    "    \n",
    "    \n",
    "    \n",
    "    \n",
    "    #Taking Top Eigen Values and Top Eigen Vectors\n",
    "    top_eigen_values_indices=sorted_indices[:number_of_components]\n",
    "    top_eigen_vectors=eigen_vectors[:,top_eigen_values_indices]\n",
    "    \n",
    "     #Variance Calculations Plot\n",
    "    explained_variances = eigen_values/np.sum(eigen_values)\n",
    "    variance_explained = pd.DataFrame(eigen_values[top_eigen_values_indices] / sum(eigen_values))\n",
    "    variance_explained['PC_Feature']=top_eigen_values_indices\n",
    "    variance_explained_plot=pd.Series(eigen_values[top_eigen_values_indices] / sum(eigen_values))\n",
    "    \n",
    "    \n",
    "    #Cumulative Variance Plot\n",
    "    cumulative_variance_explained = np.cumsum(variance_explained_plot)\n",
    "    cumulative_variance_explained_plot = pd.Series(cumulative_variance_explained)\n",
    "    \n",
    "    \n",
    "    \n",
    "    #Projecting Principal Components \n",
    "    principal_components=input_dataframe_centered.dot(top_eigen_vectors)\n",
    "    principal_components.columns=[f'PC{i+1}' for i in range(number_of_components)]\n",
    "    \n",
    "    \n",
    "   \n",
    "    \n",
    "    #Calculate the loadings\n",
    "    loadings = pd.DataFrame(top_eigen_vectors,index=input_dataframe.columns)\n",
    "    \n",
    "    df_principal_components=pd.DataFrame(principal_components, columns=[f'PC{i+1}' for i in range(number_of_components)])\n",
    "    #PLotting the graph \n",
    "    fig, ax = plt.subplots(1, 2, figsize=(12, 5))\n",
    "    ax[0].plot(np.arange(1, number_of_components+1),variance_explained_plot, 'o-')\n",
    "    ax[0].set_xlabel('Principal Component')\n",
    "    ax[0].set_ylabel('Proportion of Variance Explained')\n",
    "    ax[0].set_title('Scree Plot')\n",
    "    \n",
    "    \n",
    "    ax[1].plot(np.arange(1, number_of_components+1),cumulative_variance_explained_plot, 'o-')\n",
    "    ax[1].set_xlabel('Principal Component')\n",
    "    ax[1].set_ylabel('Cumulative Proportion of Variance Explained')\n",
    "    ax[1].set_title('Cumulative Scree Plot')\n",
    "    plt.tight_layout()\n",
    "    plt.show()\n",
    "    \n",
    "    #Correlation between PC1 and PC2\n",
    "    \n",
    "    plt.scatter(principal_components['PC1'], principal_components['PC2'])\n",
    "    plt.xlabel('PC1')\n",
    "    plt.ylabel('PC2')\n",
    "    plt.title('Scatter plot of PC1 against PC2')\n",
    "    plt.show()\n",
    "    \n",
    "    principal_components_temp=principal_components[['PC1','PC2']]\n",
    "    corr_matrix = principal_components_temp.corr()\n",
    "    print('Correlation matrix:')\n",
    "    print(corr_matrix)\n",
    "    \n",
    "    total_variance_explained=cumulative_variance_explained_plot[1]\n",
    "    print(\"The total variance explained by first two PC's is {}\".format(total_variance_explained))\n",
    "\n",
    "    return variance_explained,loadings,principal_components,cumulative_variance_explained\n",
    "    \n",
    "    \n",
    "    \n",
    "    \n",
    "\n"
   ]
  },
  {
   "cell_type": "code",
   "execution_count": 101,
   "id": "d785efd3",
   "metadata": {},
   "outputs": [
    {
     "name": "stderr",
     "output_type": "stream",
     "text": [
      "Calculating Covariance Matrix:   0%|          | 1/20531 [00:16<93:08:30, 16.33s/it]\n"
     ]
    },
    {
     "name": "stdout",
     "output_type": "stream",
     "text": [
      "Number of Principal components explain 90% of variance are 373\n"
     ]
    },
    {
     "name": "stderr",
     "output_type": "stream",
     "text": [
      "/N/u/javshah/Carbonate/.local/lib/python3.9/site-packages/matplotlib/cbook/__init__.py:1335: ComplexWarning: Casting complex values to real discards the imaginary part\n",
      "  return np.asarray(x, float)\n"
     ]
    },
    {
     "data": {
      "image/png": "[encoded data removed]",
      "text/plain": [
       "<Figure size 864x360 with 2 Axes>"
      ]
     },
     "metadata": {
      "needs_background": "light"
     },
     "output_type": "display_data"
    },
    {
     "name": "stderr",
     "output_type": "stream",
     "text": [
      "/N/u/javshah/Carbonate/.local/lib/python3.9/site-packages/matplotlib/collections.py:192: ComplexWarning: Casting complex values to real discards the imaginary part\n",
      "  offsets = np.asanyarray(offsets, float)\n"
     ]
    },
    {
     "data": {
      "image/png": "[encoded data removed]",
      "text/plain": [
       "<Figure size 432x288 with 1 Axes>"
      ]
     },
     "metadata": {
      "needs_background": "light"
     },
     "output_type": "display_data"
    },
    {
     "name": "stderr",
     "output_type": "stream",
     "text": [
      "/N/u/javshah/Carbonate/.local/lib/python3.9/site-packages/pandas/core/internals/managers.py:1768: ComplexWarning: Casting complex values to real discards the imaginary part\n",
      "  arr = arr.astype(dtype, copy=False)\n"
     ]
    },
    {
     "name": "stdout",
     "output_type": "stream",
     "text": [
      "Correlation matrix:\n",
      "              PC1           PC2\n",
      "PC1  1.000000e+00 -1.923637e-15\n",
      "PC2 -1.923637e-15  1.000000e+00\n",
      "The total variance explained by first two PC's is (0.1929401381992425+0j)\n"
     ]
    }
   ],
   "source": [
    "variance_explained,loadings,principal_components,cumulative_variance_explained=principal_component_analysis(df_pancan)"
   ]
  },
  {
   "cell_type": "code",
   "execution_count": 102,
   "id": "69cc89e9",
   "metadata": {},
   "outputs": [],
   "source": [
    "variance_explained.to_csv('variance_explained_full_10.csv')\n",
    "loadings.to_csv('loadings_full_10.csv')\n",
    "principal_components.to_csv('principal_components_full_10.csv')"
   ]
  },
  {
   "cell_type": "markdown",
   "id": "b9522d25",
   "metadata": {},
   "source": [
    "# Method 2 When cumulative Variance Reaches 75 percent"
   ]
  },
  {
   "cell_type": "code",
   "execution_count": 108,
   "id": "b7bf06be",
   "metadata": {},
   "outputs": [],
   "source": [
    "variance_explained_method=variance_explained.copy()\n",
    "variance_explained_method['cumulative_variance']=variance_explained[0].cumsum()\n",
    "variance_explained_method['cumulative_variance']=variance_explained_method['cumulative_variance'].swifter.apply(lambda x:x.real)"
   ]
  },
  {
   "cell_type": "code",
   "execution_count": 116,
   "id": "05a1c42d",
   "metadata": {},
   "outputs": [],
   "source": [
    "def variance_method(cumulative_variance_dataframe,threshold):\n",
    "    '''\n",
    "    Input requires a dataframe having cumulative variance and a threshold\n",
    "    Threshold values must be between 0.70-0.95\n",
    "    '''\n",
    "    return threshold,len(variance_explained_method[variance_explained_method['cumulative_variance']<=threshold])"
   ]
  },
  {
   "cell_type": "code",
   "execution_count": 117,
   "id": "e070cd00",
   "metadata": {},
   "outputs": [
    {
     "data": {
      "text/plain": [
       "{0.7: 84,\n",
       " 0.72: 98,\n",
       " 0.75: 124,\n",
       " 0.78: 157,\n",
       " 0.8: 182,\n",
       " 0.82: 211,\n",
       " 0.85: 261,\n",
       " 0.88: 323,\n",
       " 0.9: 372}"
      ]
     },
     "execution_count": 117,
     "metadata": {},
     "output_type": "execute_result"
    }
   ],
   "source": [
    "threshold=[0.70,0.72,0.75,0.78,0.80,0.82,0.85,0.88,0.90]\n",
    "pc_dict={}\n",
    "for i in threshold:\n",
    "    threshold,number_of_pcs=variance_method(variance_explained_method,i)\n",
    "    pc_dict[threshold]=number_of_pcs\n",
    "pc_dict"
   ]
  },
  {
   "cell_type": "markdown",
   "id": "8c820e41",
   "metadata": {},
   "source": [
    "# Method 3 Using components whose variance is atleast 1\n"
   ]
  },
  {
   "cell_type": "code",
   "execution_count": 122,
   "id": "6d1873a5",
   "metadata": {},
   "outputs": [
    {
     "name": "stderr",
     "output_type": "stream",
     "text": [
      "Calculating Covariance Matrix:   0%|          | 1/20531 [00:16<95:25:46, 16.73s/it]\n"
     ]
    }
   ],
   "source": [
    "from sklearn.preprocessing import StandardScaler\n",
    "input_dataframe=df_pancan\n",
    "scaler = StandardScaler()\n",
    "input_dataframe_scaled =pd.DataFrame(scaler.fit_transform(input_dataframe))\n",
    "covariance_matrix,input_dataframe_centered=covariance(input_dataframe_scaled)\n",
    "eigen_values,eigen_vectors=np.linalg.eig(covariance_matrix)"
   ]
  },
  {
   "cell_type": "code",
   "execution_count": 133,
   "id": "2a69cb34",
   "metadata": {},
   "outputs": [
    {
     "name": "stdout",
     "output_type": "stream",
     "text": [
      "The number of Principal Components having variance greater than 1 is 800\n"
     ]
    }
   ],
   "source": [
    "eigen_values_greater=[x for x in eigen_values if x.real>1]\n",
    "print(\"The number of Principal Components having variance greater than 1 is {}\".format(len(eigen_values_greater)))\n"
   ]
  },
  {
   "cell_type": "markdown",
   "id": "6a9e5e51",
   "metadata": {},
   "source": [
    "# Discussion about Loadings"
   ]
  },
  {
   "cell_type": "code",
   "execution_count": 140,
   "id": "eec44148",
   "metadata": {},
   "outputs": [],
   "source": [
    "loadings_real=loadings.applymap(lambda x:x.real)"
   ]
  },
  {
   "cell_type": "code",
   "execution_count": 184,
   "id": "de1a91bb",
   "metadata": {},
   "outputs": [
    {
     "data": {
      "text/plain": [
       "[['PC0', []],\n",
       " ['PC1', []],\n",
       " ['PC2', []],\n",
       " ['PC3', []],\n",
       " ['PC4', []],\n",
       " ['PC5', []],\n",
       " ['PC6', []],\n",
       " ['PC7', []],\n",
       " ['PC8', []],\n",
       " ['PC9', []],\n",
       " ['PC10', []],\n",
       " ['PC11', []],\n",
       " ['PC12', []],\n",
       " ['PC13', []],\n",
       " ['PC14', []],\n",
       " ['PC15', []],\n",
       " ['PC16', ['gene_18698']],\n",
       " ['PC17', []],\n",
       " ['PC18', []],\n",
       " ['PC19', []],\n",
       " ['PC20', []],\n",
       " ['PC21', ['gene_16961']],\n",
       " ['PC22', ['gene_19867']],\n",
       " ['PC23', []],\n",
       " ['PC24', []],\n",
       " ['PC25', []],\n",
       " ['PC26', []],\n",
       " ['PC27', []],\n",
       " ['PC28', []],\n",
       " ['PC29', []],\n",
       " ['PC30', []],\n",
       " ['PC31', []],\n",
       " ['PC32', []],\n",
       " ['PC33', []],\n",
       " ['PC34', []],\n",
       " ['PC35', []],\n",
       " ['PC36', []],\n",
       " ['PC37', []],\n",
       " ['PC38', []],\n",
       " ['PC39', []],\n",
       " ['PC40', []],\n",
       " ['PC41', []],\n",
       " ['PC42', []],\n",
       " ['PC43', []],\n",
       " ['PC44', []],\n",
       " ['PC45', []],\n",
       " ['PC46', []],\n",
       " ['PC47', []],\n",
       " ['PC48', []],\n",
       " ['PC49', []],\n",
       " ['PC50', []],\n",
       " ['PC51', []],\n",
       " ['PC52', ['gene_12879']],\n",
       " ['PC53', []],\n",
       " ['PC54', []],\n",
       " ['PC55', []],\n",
       " ['PC56', []],\n",
       " ['PC57', []],\n",
       " ['PC58', []],\n",
       " ['PC59', ['gene_4343']],\n",
       " ['PC60', []],\n",
       " ['PC61', []],\n",
       " ['PC62',\n",
       "  ['gene_15139',\n",
       "   'gene_15554',\n",
       "   'gene_15559',\n",
       "   'gene_15567',\n",
       "   'gene_16639',\n",
       "   'gene_16657',\n",
       "   'gene_16673']],\n",
       " ['PC63', ['gene_12645']],\n",
       " ['PC64', []],\n",
       " ['PC65', []],\n",
       " ['PC66', []],\n",
       " ['PC67', []],\n",
       " ['PC68', []],\n",
       " ['PC69', ['gene_3909']],\n",
       " ['PC70', []],\n",
       " ['PC71', ['gene_12528', 'gene_12713']],\n",
       " ['PC72', ['gene_9443']],\n",
       " ['PC73', []],\n",
       " ['PC74', []],\n",
       " ['PC75', ['gene_9441', 'gene_9448', 'gene_9449', 'gene_9450', 'gene_9458']],\n",
       " ['PC76', []],\n",
       " ['PC77', []],\n",
       " ['PC78', ['gene_15203']],\n",
       " ['PC79', []],\n",
       " ['PC80', ['gene_15136']],\n",
       " ['PC81', ['gene_12553', 'gene_17595']],\n",
       " ['PC82', []],\n",
       " ['PC83', []],\n",
       " ['PC84', []],\n",
       " ['PC85', []],\n",
       " ['PC86', []],\n",
       " ['PC87', []],\n",
       " ['PC88', []],\n",
       " ['PC89', []],\n",
       " ['PC90', []],\n",
       " ['PC91', []],\n",
       " ['PC92', ['gene_4810', 'gene_14755', 'gene_19196']],\n",
       " ['PC93', ['gene_7033', 'gene_13996']],\n",
       " ['PC94', []],\n",
       " ['PC95', []],\n",
       " ['PC96', []],\n",
       " ['PC97', []],\n",
       " ['PC98', []],\n",
       " ['PC99', ['gene_255', 'gene_11802', 'gene_19196']],\n",
       " ['PC100', []],\n",
       " ['PC101', []],\n",
       " ['PC102', []],\n",
       " ['PC103', ['gene_12618']],\n",
       " ['PC104', []],\n",
       " ['PC105', []],\n",
       " ['PC106', []],\n",
       " ['PC107', []],\n",
       " ['PC108', []],\n",
       " ['PC109', []],\n",
       " ['PC110', []],\n",
       " ['PC111', ['gene_17084']],\n",
       " ['PC112', []],\n",
       " ['PC113', []],\n",
       " ['PC114', []],\n",
       " ['PC115', []],\n",
       " ['PC116', []],\n",
       " ['PC117', []],\n",
       " ['PC118', []],\n",
       " ['PC119', []],\n",
       " ['PC120', []],\n",
       " ['PC121', ['gene_14342']],\n",
       " ['PC122', []],\n",
       " ['PC123', []],\n",
       " ['PC124', []],\n",
       " ['PC125', []],\n",
       " ['PC126', []],\n",
       " ['PC127', ['gene_12382']],\n",
       " ['PC128', []],\n",
       " ['PC129', ['gene_19819']],\n",
       " ['PC130', []],\n",
       " ['PC131', []],\n",
       " ['PC132', []],\n",
       " ['PC133', ['gene_16951']],\n",
       " ['PC134', []],\n",
       " ['PC135', []],\n",
       " ['PC136', []],\n",
       " ['PC137', []],\n",
       " ['PC138', []],\n",
       " ['PC139', ['gene_19125']],\n",
       " ['PC140', ['gene_12378']],\n",
       " ['PC141', []],\n",
       " ['PC142', ['gene_12415']],\n",
       " ['PC143', []],\n",
       " ['PC144', ['gene_18466']],\n",
       " ['PC145', []],\n",
       " ['PC146', ['gene_14231']],\n",
       " ['PC147', ['gene_8556']],\n",
       " ['PC148', []],\n",
       " ['PC149', []],\n",
       " ['PC150', []],\n",
       " ['PC151', []],\n",
       " ['PC152', []],\n",
       " ['PC153', ['gene_11130']],\n",
       " ['PC154', ['gene_12375', 'gene_14229', 'gene_14236']],\n",
       " ['PC155', []],\n",
       " ['PC156', ['gene_6802']],\n",
       " ['PC157', []],\n",
       " ['PC158', []],\n",
       " ['PC159', []],\n",
       " ['PC160', []],\n",
       " ['PC161', ['gene_6532', 'gene_12542']],\n",
       " ['PC162',\n",
       "  ['gene_4311', 'gene_4823', 'gene_12618', 'gene_12730', 'gene_17899']],\n",
       " ['PC163', []],\n",
       " ['PC164', ['gene_16574']],\n",
       " ['PC165', ['gene_10403', 'gene_12711']],\n",
       " ['PC166', []],\n",
       " ['PC167', ['gene_6804']],\n",
       " ['PC168', []],\n",
       " ['PC169', []],\n",
       " ['PC170', []],\n",
       " ['PC171', []],\n",
       " ['PC172', ['gene_12368']],\n",
       " ['PC173', ['gene_4372', 'gene_4926']],\n",
       " ['PC174',\n",
       "  ['gene_9321',\n",
       "   'gene_12395',\n",
       "   'gene_12464',\n",
       "   'gene_12613',\n",
       "   'gene_12628',\n",
       "   'gene_12721']],\n",
       " ['PC175', []],\n",
       " ['PC176', []],\n",
       " ['PC177', []],\n",
       " ['PC178', []],\n",
       " ['PC179', ['gene_9321', 'gene_12483']],\n",
       " ['PC180', ['gene_13777']],\n",
       " ['PC181', []],\n",
       " ['PC182', ['gene_6804', 'gene_12732']],\n",
       " ['PC183', []],\n",
       " ['PC184', []],\n",
       " ['PC185', []],\n",
       " ['PC186', []],\n",
       " ['PC187', []],\n",
       " ['PC188', ['gene_1734']],\n",
       " ['PC189', ['gene_10381']],\n",
       " ['PC190', ['gene_9283', 'gene_9285']],\n",
       " ['PC191', []],\n",
       " ['PC192', ['gene_12515']],\n",
       " ['PC193', []],\n",
       " ['PC194', ['gene_4333']],\n",
       " ['PC195', []],\n",
       " ['PC196', []],\n",
       " ['PC197', ['gene_16570']],\n",
       " ['PC198', []],\n",
       " ['PC199', []],\n",
       " ['PC200', ['gene_8437']],\n",
       " ['PC201', ['gene_8558']],\n",
       " ['PC202', ['gene_12405', 'gene_1426', 'gene_4372', 'gene_4382', 'gene_7053']],\n",
       " ['PC203', ['gene_14229']],\n",
       " ['PC204', []],\n",
       " ['PC205', []],\n",
       " ['PC206', []],\n",
       " ['PC207', ['gene_12510', 'gene_12667']],\n",
       " ['PC208', []],\n",
       " ['PC209', ['gene_11223']],\n",
       " ['PC210',\n",
       "  ['gene_9321',\n",
       "   'gene_12483',\n",
       "   'gene_9290',\n",
       "   'gene_12383',\n",
       "   'gene_12480',\n",
       "   'gene_12489']],\n",
       " ['PC211', ['gene_8558', 'gene_12488']],\n",
       " ['PC212', ['gene_16574']],\n",
       " ['PC213', ['gene_12510', 'gene_12667', 'gene_16644']],\n",
       " ['PC214', ['gene_18758']],\n",
       " ['PC215', ['gene_7580', 'gene_14040']],\n",
       " ['PC216', ['gene_15462', 'gene_18252']],\n",
       " ['PC217', []],\n",
       " ['PC218', ['gene_7791', 'gene_16689', 'gene_12729', 'gene_12730']],\n",
       " ['PC219', ['gene_12426', 'gene_12532']],\n",
       " ['PC220', []],\n",
       " ['PC221', []],\n",
       " ['PC222', ['gene_1734']],\n",
       " ['PC223', []],\n",
       " ['PC224', ['gene_4371', 'gene_12825']],\n",
       " ['PC225', []],\n",
       " ['PC226', []],\n",
       " ['PC227', []],\n",
       " ['PC228', ['gene_3835', 'gene_13999']],\n",
       " ['PC229', ['gene_12478', 'gene_18528']],\n",
       " ['PC230', ['gene_4333']],\n",
       " ['PC231', []],\n",
       " ['PC232', []],\n",
       " ['PC233', ['gene_12383', 'gene_4372']],\n",
       " ['PC234', []],\n",
       " ['PC235', []],\n",
       " ['PC236', ['gene_2852']],\n",
       " ['PC237', ['gene_1624']],\n",
       " ['PC238', ['gene_13984', 'gene_13986']],\n",
       " ['PC239', ['gene_3648']],\n",
       " ['PC240', ['gene_12058', 'gene_16674']],\n",
       " ['PC241', ['gene_9330', 'gene_16912']],\n",
       " ['PC242', []],\n",
       " ['PC243', ['gene_6508']],\n",
       " ['PC244', ['gene_4312']],\n",
       " ['PC245', ['gene_4803']],\n",
       " ['PC246', ['gene_2295']],\n",
       " ['PC247', ['gene_2320', 'gene_17496', 'gene_19749']],\n",
       " ['PC248', ['gene_4815', 'gene_9385', 'gene_14843']],\n",
       " ['PC249', ['gene_8562']],\n",
       " ['PC250', ['gene_12642', 'gene_13983']],\n",
       " ['PC251', ['gene_17496', 'gene_6024']],\n",
       " ['PC252', []],\n",
       " ['PC253', ['gene_9', 'gene_12880']],\n",
       " ['PC254', []],\n",
       " ['PC255', ['gene_4819']],\n",
       " ['PC256', ['gene_16630', 'gene_9672']],\n",
       " ['PC257', []],\n",
       " ['PC258', ['gene_12402']],\n",
       " ['PC259', ['gene_4776', 'gene_12336']],\n",
       " ['PC260', ['gene_1295', 'gene_15462', 'gene_13283']],\n",
       " ['PC261', []],\n",
       " ['PC262', ['gene_7727', 'gene_9283', 'gene_11170']],\n",
       " ['PC263', ['gene_1844', 'gene_14448']],\n",
       " ['PC264', []],\n",
       " ['PC265', ['gene_2320', 'gene_17496']],\n",
       " ['PC266', []],\n",
       " ['PC267', ['gene_1581', 'gene_11230', 'gene_12489']],\n",
       " ['PC268', ['gene_19819']],\n",
       " ['PC269', []],\n",
       " ['PC270', ['gene_12383', 'gene_14230', 'gene_12392']],\n",
       " ['PC271', ['gene_12706']],\n",
       " ['PC272', ['gene_12492']],\n",
       " ['PC273',\n",
       "  ['gene_6695', 'gene_12479', 'gene_12729', 'gene_13207', 'gene_14905']],\n",
       " ['PC274', ['gene_12489']],\n",
       " ['PC275', ['gene_15555', 'gene_12399']],\n",
       " ['PC276', ['gene_13777', 'gene_17055']],\n",
       " ['PC277', ['gene_6075', 'gene_12609']],\n",
       " ['PC278', []],\n",
       " ['PC279', ['gene_12383']],\n",
       " ['PC280', []],\n",
       " ['PC281', ['gene_1689', 'gene_17681']],\n",
       " ['PC282', ['gene_9939', 'gene_12573']],\n",
       " ['PC283', []],\n",
       " ['PC284', []],\n",
       " ['PC285', ['gene_12025']],\n",
       " ['PC286', ['gene_12400']],\n",
       " ['PC287', []],\n",
       " ['PC288', ['gene_12680', 'gene_18925']],\n",
       " ['PC289', ['gene_7212', 'gene_17862']],\n",
       " ['PC290', ['gene_17066']],\n",
       " ['PC291', []],\n",
       " ['PC292', ['gene_12542', 'gene_16574']],\n",
       " ['PC293', ['gene_9355', 'gene_7791', 'gene_12825']],\n",
       " ['PC294', ['gene_14168']],\n",
       " ['PC295', ['gene_12968']],\n",
       " ['PC296', ['gene_15451']],\n",
       " ['PC297', ['gene_13986', 'gene_16692']],\n",
       " ['PC298', ['gene_8442']],\n",
       " ['PC299', ['gene_4312', 'gene_8396']],\n",
       " ['PC300', ['gene_6669']],\n",
       " ['PC301', ['gene_169']],\n",
       " ['PC302', ['gene_12654']],\n",
       " ['PC303', ['gene_1844', 'gene_7975', 'gene_16386']],\n",
       " ['PC304', ['gene_9315', 'gene_9317', 'gene_9323']],\n",
       " ['PC305', []],\n",
       " ['PC306', ['gene_12423']],\n",
       " ['PC307', []],\n",
       " ['PC308', ['gene_18925', 'gene_12705']],\n",
       " ['PC309',\n",
       "  ['gene_7654', 'gene_12383', 'gene_12547', 'gene_18922', 'gene_13518']],\n",
       " ['PC310', ['gene_12343', 'gene_12373']],\n",
       " ['PC311', ['gene_8432', 'gene_12729']],\n",
       " ['PC312', ['gene_1844', 'gene_18356']],\n",
       " ['PC313',\n",
       "  ['gene_9351',\n",
       "   'gene_1988',\n",
       "   'gene_3527',\n",
       "   'gene_12383',\n",
       "   'gene_16665',\n",
       "   'gene_18918']],\n",
       " ['PC314', ['gene_14366']],\n",
       " ['PC315', ['gene_3559', 'gene_5094']],\n",
       " ['PC316', ['gene_1689', 'gene_9291', 'gene_16616']],\n",
       " ['PC317', ['gene_7522', 'gene_13655']],\n",
       " ['PC318', ['gene_12373', 'gene_12654']],\n",
       " ['PC319', ['gene_6979', 'gene_7508', 'gene_12620', 'gene_16451']],\n",
       " ['PC320',\n",
       "  ['gene_3173',\n",
       "   'gene_9311',\n",
       "   'gene_9332',\n",
       "   'gene_18286',\n",
       "   'gene_6144',\n",
       "   'gene_6145',\n",
       "   'gene_9470']],\n",
       " ['PC321', ['gene_9308', 'gene_9323']],\n",
       " ['PC322', ['gene_9327']],\n",
       " ['PC323', ['gene_9285', 'gene_10139', 'gene_18913']],\n",
       " ['PC324',\n",
       "  ['gene_3527',\n",
       "   'gene_14216',\n",
       "   'gene_18918',\n",
       "   'gene_1469',\n",
       "   'gene_4548',\n",
       "   'gene_7471',\n",
       "   'gene_7727',\n",
       "   'gene_12522',\n",
       "   'gene_12595']],\n",
       " ['PC325', ['gene_18992']],\n",
       " ['PC326',\n",
       "  ['gene_2320',\n",
       "   'gene_9351',\n",
       "   'gene_12522',\n",
       "   'gene_17496',\n",
       "   'gene_7508',\n",
       "   'gene_12488']],\n",
       " ['PC327', ['gene_16829', 'gene_13971', 'gene_16773']],\n",
       " ['PC328', ['gene_6606']],\n",
       " ['PC329', ['gene_7192']],\n",
       " ['PC330', ['gene_4352']],\n",
       " ['PC331', ['gene_19388']],\n",
       " ['PC332', ['gene_9350', 'gene_12655', 'gene_12656', 'gene_12657']],\n",
       " ['PC333', ['gene_9435', 'gene_9351', 'gene_17676']],\n",
       " ['PC334', ['gene_11649']],\n",
       " ['PC335', ['gene_17157', 'gene_18992', 'gene_9066', 'gene_18375']],\n",
       " ['PC336',\n",
       "  ['gene_12399', 'gene_12403', 'gene_12587', 'gene_12540', 'gene_16626']],\n",
       " ['PC337', ['gene_17793']],\n",
       " ['PC338', []],\n",
       " ['PC339', ['gene_12400']],\n",
       " ['PC340', ['gene_7102', 'gene_9353', 'gene_16649']],\n",
       " ['PC341', ['gene_4813', 'gene_18913']],\n",
       " ['PC342', ['gene_9910', 'gene_2676', 'gene_11632']],\n",
       " ['PC343', ['gene_7870', 'gene_15585']],\n",
       " ['PC344', ['gene_9291', 'gene_8278']],\n",
       " ['PC345', ['gene_481', 'gene_4284', 'gene_18116', 'gene_16628']],\n",
       " ['PC346', []],\n",
       " ['PC347', ['gene_9470', 'gene_6533', 'gene_12414', 'gene_12517']],\n",
       " ['PC348',\n",
       "  ['gene_2771',\n",
       "   'gene_4813',\n",
       "   'gene_12417',\n",
       "   'gene_15028',\n",
       "   'gene_9237',\n",
       "   'gene_12286']],\n",
       " ['PC349',\n",
       "  ['gene_12531', 'gene_15027', 'gene_16659', 'gene_7806', 'gene_9352']],\n",
       " ['PC350', []],\n",
       " ['PC351', ['gene_16511', 'gene_20511']],\n",
       " ['PC352', ['gene_17694']],\n",
       " ['PC353', []],\n",
       " ['PC354', ['gene_3041']],\n",
       " ['PC355', ['gene_12411', 'gene_1749', 'gene_16829']],\n",
       " ['PC356', ['gene_8559', 'gene_12789', 'gene_19106']],\n",
       " ['PC357', ['gene_16573', 'gene_18913']],\n",
       " ['PC358', ['gene_12251']],\n",
       " ['PC359', ['gene_13283', 'gene_14044']],\n",
       " ['PC360', ['gene_9333', 'gene_12636', 'gene_17066']],\n",
       " ['PC361', []],\n",
       " ['PC362',\n",
       "  ['gene_12556',\n",
       "   'gene_7115',\n",
       "   'gene_7192',\n",
       "   'gene_9350',\n",
       "   'gene_11913',\n",
       "   'gene_12656']],\n",
       " ['PC363', ['gene_8274']],\n",
       " ['PC364', ['gene_236', 'gene_12536', 'gene_18922']],\n",
       " ['PC365', ['gene_6781']],\n",
       " ['PC366', ['gene_9944', 'gene_2322', 'gene_15137']],\n",
       " ['PC367', ['gene_8275']],\n",
       " ['PC368', ['gene_16887', 'gene_17115', 'gene_18617']],\n",
       " ['PC369', ['gene_7241', 'gene_11357']],\n",
       " ['PC370', []],\n",
       " ['PC371', ['gene_16652', 'gene_10994', 'gene_16573', 'gene_16614']],\n",
       " ['PC372', ['gene_15558', 'gene_2652', 'gene_12495']]]"
      ]
     },
     "execution_count": 184,
     "metadata": {},
     "output_type": "execute_result"
    }
   ],
   "source": [
    "loadings_list=[]\n",
    "for col in loadings_real.columns:\n",
    "    indices=[]\n",
    "    indices_positive=loadings_real.index[loadings_real[col] > 0.04].tolist()\n",
    "    indices_negative=loadings_real.index[loadings_real[col] <-0.04].tolist()\n",
    "    indices=indices_positive+indices_negative\n",
    "    loadings_list.append(['PC'+str(col),indices])\n",
    "loadings_list"
   ]
  },
  {
   "cell_type": "markdown",
   "id": "ba7a5752",
   "metadata": {},
   "source": [
    "# Checking for the Genes that affect variance the maximum"
   ]
  },
  {
   "cell_type": "code",
   "execution_count": 220,
   "id": "1643c8fb",
   "metadata": {},
   "outputs": [
    {
     "data": {
      "image/png": "[encoded data removed]",
      "text/plain": [
       "<Figure size 432x288 with 1 Axes>"
      ]
     },
     "metadata": {
      "needs_background": "light"
     },
     "output_type": "display_data"
    }
   ],
   "source": [
    "max_abs=pd.DataFrame(loadings_real.abs().idxmax())\n",
    "max_abs_val_counts=pd.DataFrame(max_abs[0].value_counts())\n",
    "plt.plot(max_abs_val_counts[max_abs_val_counts[0]>=2])\n",
    "plt.xlabel('Gene')\n",
    "plt.ylabel('Frequency')\n",
    "plt.title('Predominant Gene to explain PC')\n",
    "plt.xticks(rotation=90)\n",
    "plt.show()"
   ]
  },
  {
   "cell_type": "code",
   "execution_count": 223,
   "id": "040d1e60",
   "metadata": {},
   "outputs": [
    {
     "data": {
      "image/png": "[encoded data removed]",
      "text/plain": [
       "<Figure size 432x288 with 1 Axes>"
      ]
     },
     "metadata": {
      "needs_background": "light"
     },
     "output_type": "display_data"
    }
   ],
   "source": [
    "for i in range(1,2):\n",
    "    plt.plot(loadings_real.loc['gene_'+str(i)])\n",
    "    plt.xlabel('Principal_Component_Number')\n",
    "    plt.ylabel('Explained Correlation')\n",
    "    plt.title('Explained_Variance vs Principal_Components_Number')\n",
    "    plt.show()"
   ]
  },
  {
   "cell_type": "code",
   "execution_count": 237,
   "id": "b9cc305f",
   "metadata": {},
   "outputs": [
    {
     "data": {
      "image/png": "[encoded data removed]",
      "text/plain": [
       "<Figure size 432x288 with 1 Axes>"
      ]
     },
     "metadata": {
      "needs_background": "light"
     },
     "output_type": "display_data"
    }
   ],
   "source": [
    "plt.scatter(loadings[0],loadings[1])\n",
    "plt.xlabel('PC1 Loading')\n",
    "plt.ylabel('PC2 Loading')\n",
    "plt.title('Scatter plot of loading PC1 VS PC2')\n",
    "plt.show()"
   ]
  },
  {
   "cell_type": "markdown",
   "id": "c3f2eed6",
   "metadata": {},
   "source": [
    "# Performing K means Clustering on the above data from previous Assignment"
   ]
  },
  {
   "cell_type": "code",
   "execution_count": 185,
   "id": "7aeb0350",
   "metadata": {},
   "outputs": [],
   "source": [
    "import numpy as np\n",
    "import swifter\n",
    "from scipy.spatial.distance import euclidean\n",
    "from scipy.spatial.distance import cdist\n",
    "import time\n",
    "\n",
    "         \n",
    "def get_random_centroids(input_dataframe,no_of_clusters):\n",
    "    list_of_centroids = []\n",
    "    for cluster in range(no_of_clusters):\n",
    "        random_centroid = input_dataframe.swifter.apply(lambda x:float(x.sample()))\n",
    "        list_of_centroids.append(random_centroid)\n",
    "    \n",
    "    centroid_df=pd.concat(list_of_centroids,axis=1)\n",
    "    centroid_df.index.name='Cluster_Assigned'\n",
    "    return centroid_df\n",
    "\n",
    "def get_labels(input_dataframe,centroid_df):\n",
    "    euclidean_distances = centroid_df.swifter.apply(lambda x: np.sqrt(((input_dataframe - x) ** 2).sum(axis=1)))\n",
    "    return pd.DataFrame(euclidean_distances.idxmin(axis=1))\n",
    "\n",
    "        \n",
    "def get_new_centroids(df_clustered_label,input_dataframe):\n",
    "    df_original_label_join=input_dataframe.join(df_clustered_label)\n",
    "    df_original_label_join.rename(columns={0:'Cluster_Assigned'},inplace=True)\n",
    "    new_centroids=df_original_label_join.groupby('Cluster_Assigned').mean()\n",
    "    return new_centroids.T\n",
    "\n",
    "\n",
    "def kmeans_llyod(input_dataframe,no_of_clusters,threshold,no_of_iterations):\n",
    "    start_time=time.time()\n",
    "    iteration=0\n",
    "    initial_centroid=get_random_centroids(input_dataframe,no_of_clusters)\n",
    "    initial_centroid_column_list=initial_centroid.columns.to_list()\n",
    "    \n",
    "    while True:\n",
    "        \n",
    "        df_cluster_label=get_labels(input_dataframe,initial_centroid)\n",
    "        df_new_centroids=get_new_centroids(df_cluster_label,input_dataframe)\n",
    "        new_list_of_columns=df_new_centroids.columns.to_list()\n",
    "        initial_set_columns = set(initial_centroid_column_list)\n",
    "        new_set_columns = set(new_list_of_columns)\n",
    "        missing_columns = initial_set_columns - new_set_columns\n",
    "        for col in missing_columns:\n",
    "            df_new_centroids[col]=initial_centroid[col]\n",
    "        \n",
    "        from scipy.spatial.distance import euclidean\n",
    "        scalar_product = [euclidean(initial_centroid[col],df_new_centroids[col]) for col in initial_centroid.columns]\n",
    "        threshold_calculated=float(sum(scalar_product))/no_of_clusters\n",
    "        \n",
    "        iteration+=1\n",
    "        \n",
    "        if threshold_calculated<threshold:\n",
    "            print(\"The input Threshold was {}\".format(threshold))\n",
    "            print(\"The calculated threshold is {}\".format(threshold_calculated))\n",
    "        \n",
    "        if iteration>no_of_iterations:\n",
    "            print(\"Limit for iterations has exceeded\")\n",
    "        \n",
    "        if threshold_calculated<threshold or iteration>no_of_iterations:\n",
    "            sum_of_square_error=sum_of_square_error_function(df_cluster_label,input_dataframe,df_new_centroids,no_of_clusters)\n",
    "            df_cluster_label_copy=df_cluster_label.copy()\n",
    "            df_cluster_label_copy.rename(columns={0:'Cluster_Assigned'},inplace=True)\n",
    "            labels=df_cluster_label_copy['Cluster_Assigned'].to_list()\n",
    "            silheoutte_score=silheoutte_score_Kmeans(input_dataframe,labels)\n",
    "            chs_score=Calinski_Harbaz_score_Kmeans(input_dataframe,labels)\n",
    "            end_time=time.time()\n",
    "            return df_new_centroids,sum_of_square_error,silheoutte_score,chs_score,end_time-start_time\n",
    "            break\n",
    "        else:\n",
    "            initial_centroid= df_new_centroids\n",
    "        \n",
    "\n",
    "def sum_of_square_error_function(df_cluster_label,input_dataframe,df_new_centroids,no_of_clusters):\n",
    "    df_data_label=input_dataframe.join(df_cluster_label)\n",
    "    df_data_label.rename(columns={0:'Cluster_Assigned'},inplace=True)\n",
    "    total_error=[]\n",
    "    for cluster in range(no_of_clusters):\n",
    "        df_data_label_cluster=df_data_label[df_data_label['Cluster_Assigned']==cluster]\n",
    "        df_data_label_cluster=df_data_label_cluster.drop('Cluster_Assigned',axis=1)\n",
    "        centroids=pd.DataFrame(df_new_centroids[cluster])\n",
    "        euclidean_distance=cdist(df_data_label_cluster,centroids.T,metric='euclidean')\n",
    "        total_error.append(sum(euclidean_distance))\n",
    "    return round(float(''.join(map(str, sum(total_error)))),3)\n",
    "\n",
    "def silheoutte_score_Kmeans(input_dataframe,labels):\n",
    "    from sklearn.metrics import silhouette_score\n",
    "    silhouette_avg = silhouette_score(input_dataframe, labels)\n",
    "    return silhouette_avg\n",
    "\n",
    "def Calinski_Harbaz_score_Kmeans(input_dataframe,labels):\n",
    "    from sklearn.metrics import calinski_harabasz_score\n",
    "    chs=calinski_harabasz_score(input_dataframe,labels)\n",
    "    return chs\n"
   ]
  },
  {
   "cell_type": "markdown",
   "id": "b1c76c02",
   "metadata": {},
   "source": [
    "# K means output before PCA taken from Problem 3"
   ]
  },
  {
   "cell_type": "code",
   "execution_count": 228,
   "id": "6ac40c65",
   "metadata": {},
   "outputs": [],
   "source": [
    "error_values_before=pd.read_csv('K_means_Question_03_before_PCA.csv')\n",
    "error_values_before.drop('Unnamed: 0',axis=1,inplace=True)\n"
   ]
  },
  {
   "cell_type": "markdown",
   "id": "f7a8b8da",
   "metadata": {},
   "source": [
    "# Running k means on reduced Dataset after Applying PCA"
   ]
  },
  {
   "cell_type": "code",
   "execution_count": 187,
   "id": "825288af",
   "metadata": {},
   "outputs": [
    {
     "data": {
      "application/vnd.jupyter.widget-view+json": {
       "model_id": "c88d1f4c5bc24e42b92199a2f78d1779",
       "version_major": 2,
       "version_minor": 0
      },
      "text/plain": [
       "Pandas Apply:   0%|          | 0/373 [00:00<?, ?it/s]"
      ]
     },
     "metadata": {},
     "output_type": "display_data"
    },
    {
     "data": {
      "application/vnd.jupyter.widget-view+json": {
       "model_id": "1acddb9b0b514b3c8b600c047bc92c18",
       "version_major": 2,
       "version_minor": 0
      },
      "text/plain": [
       "Pandas Apply:   0%|          | 0/373 [00:00<?, ?it/s]"
      ]
     },
     "metadata": {},
     "output_type": "display_data"
    },
    {
     "data": {
      "application/vnd.jupyter.widget-view+json": {
       "model_id": "a835b83cd43d49b6a23c4e4501743e6a",
       "version_major": 2,
       "version_minor": 0
      },
      "text/plain": [
       "Pandas Apply:   0%|          | 0/373 [00:00<?, ?it/s]"
      ]
     },
     "metadata": {},
     "output_type": "display_data"
    },
    {
     "data": {
      "application/vnd.jupyter.widget-view+json": {
       "model_id": "33ba2dda607d4a0e84071ed1eceb1371",
       "version_major": 2,
       "version_minor": 0
      },
      "text/plain": [
       "Pandas Apply:   0%|          | 0/373 [00:00<?, ?it/s]"
      ]
     },
     "metadata": {},
     "output_type": "display_data"
    },
    {
     "data": {
      "application/vnd.jupyter.widget-view+json": {
       "model_id": "6c823ad128e6466f8893930a5c53aa18",
       "version_major": 2,
       "version_minor": 0
      },
      "text/plain": [
       "Pandas Apply:   0%|          | 0/373 [00:00<?, ?it/s]"
      ]
     },
     "metadata": {},
     "output_type": "display_data"
    },
    {
     "data": {
      "application/vnd.jupyter.widget-view+json": {
       "model_id": "1749da057ad943ef89f315dbdc7ead84",
       "version_major": 2,
       "version_minor": 0
      },
      "text/plain": [
       "Pandas Apply:   0%|          | 0/5 [00:00<?, ?it/s]"
      ]
     },
     "metadata": {},
     "output_type": "display_data"
    },
    {
     "data": {
      "application/vnd.jupyter.widget-view+json": {
       "model_id": "1f07d692abcc43ab996c111106e07dcd",
       "version_major": 2,
       "version_minor": 0
      },
      "text/plain": [
       "Pandas Apply:   0%|          | 0/5 [00:00<?, ?it/s]"
      ]
     },
     "metadata": {},
     "output_type": "display_data"
    },
    {
     "data": {
      "application/vnd.jupyter.widget-view+json": {
       "model_id": "b984dfcddd5d4073a86fc88fc7a98c14",
       "version_major": 2,
       "version_minor": 0
      },
      "text/plain": [
       "Pandas Apply:   0%|          | 0/5 [00:00<?, ?it/s]"
      ]
     },
     "metadata": {},
     "output_type": "display_data"
    },
    {
     "name": "stdout",
     "output_type": "stream",
     "text": [
      "The input Threshold was 10\n",
      "The calculated threshold is 9.331932719050041\n"
     ]
    },
    {
     "data": {
      "application/vnd.jupyter.widget-view+json": {
       "model_id": "c1c74ec653f84f2c91c6059bfe976770",
       "version_major": 2,
       "version_minor": 0
      },
      "text/plain": [
       "Pandas Apply:   0%|          | 0/373 [00:00<?, ?it/s]"
      ]
     },
     "metadata": {},
     "output_type": "display_data"
    },
    {
     "data": {
      "application/vnd.jupyter.widget-view+json": {
       "model_id": "3ac8370764f247f0ab7929f99bc0881d",
       "version_major": 2,
       "version_minor": 0
      },
      "text/plain": [
       "Pandas Apply:   0%|          | 0/373 [00:00<?, ?it/s]"
      ]
     },
     "metadata": {},
     "output_type": "display_data"
    },
    {
     "data": {
      "application/vnd.jupyter.widget-view+json": {
       "model_id": "7f0d664f25414e238c566d95f7699505",
       "version_major": 2,
       "version_minor": 0
      },
      "text/plain": [
       "Pandas Apply:   0%|          | 0/373 [00:00<?, ?it/s]"
      ]
     },
     "metadata": {},
     "output_type": "display_data"
    },
    {
     "data": {
      "application/vnd.jupyter.widget-view+json": {
       "model_id": "8095f37fe8c74bdfbc679d96ad42175d",
       "version_major": 2,
       "version_minor": 0
      },
      "text/plain": [
       "Pandas Apply:   0%|          | 0/373 [00:00<?, ?it/s]"
      ]
     },
     "metadata": {},
     "output_type": "display_data"
    },
    {
     "data": {
      "application/vnd.jupyter.widget-view+json": {
       "model_id": "605f25afad6c427b947c6d9d74c38a90",
       "version_major": 2,
       "version_minor": 0
      },
      "text/plain": [
       "Pandas Apply:   0%|          | 0/373 [00:00<?, ?it/s]"
      ]
     },
     "metadata": {},
     "output_type": "display_data"
    },
    {
     "data": {
      "application/vnd.jupyter.widget-view+json": {
       "model_id": "75584f6e4f9a4d959991a4b2703206eb",
       "version_major": 2,
       "version_minor": 0
      },
      "text/plain": [
       "Pandas Apply:   0%|          | 0/5 [00:00<?, ?it/s]"
      ]
     },
     "metadata": {},
     "output_type": "display_data"
    },
    {
     "data": {
      "application/vnd.jupyter.widget-view+json": {
       "model_id": "3f55c09161f542ca8cc9a17b69cdcbe5",
       "version_major": 2,
       "version_minor": 0
      },
      "text/plain": [
       "Pandas Apply:   0%|          | 0/5 [00:00<?, ?it/s]"
      ]
     },
     "metadata": {},
     "output_type": "display_data"
    },
    {
     "data": {
      "application/vnd.jupyter.widget-view+json": {
       "model_id": "f9185a5ca6e84e189b2f4767c358ed2c",
       "version_major": 2,
       "version_minor": 0
      },
      "text/plain": [
       "Pandas Apply:   0%|          | 0/5 [00:00<?, ?it/s]"
      ]
     },
     "metadata": {},
     "output_type": "display_data"
    },
    {
     "data": {
      "application/vnd.jupyter.widget-view+json": {
       "model_id": "97872cd4f9954dbcaf6a83ea0dc7a218",
       "version_major": 2,
       "version_minor": 0
      },
      "text/plain": [
       "Pandas Apply:   0%|          | 0/5 [00:00<?, ?it/s]"
      ]
     },
     "metadata": {},
     "output_type": "display_data"
    },
    {
     "data": {
      "application/vnd.jupyter.widget-view+json": {
       "model_id": "f726f3b3a24b4a309c0e970c0592432f",
       "version_major": 2,
       "version_minor": 0
      },
      "text/plain": [
       "Pandas Apply:   0%|          | 0/5 [00:00<?, ?it/s]"
      ]
     },
     "metadata": {},
     "output_type": "display_data"
    },
    {
     "name": "stdout",
     "output_type": "stream",
     "text": [
      "The input Threshold was 10\n",
      "The calculated threshold is 6.073477546062724\n"
     ]
    },
    {
     "data": {
      "application/vnd.jupyter.widget-view+json": {
       "model_id": "e6b3979c04ab4addbfe43db63e52dfa5",
       "version_major": 2,
       "version_minor": 0
      },
      "text/plain": [
       "Pandas Apply:   0%|          | 0/373 [00:00<?, ?it/s]"
      ]
     },
     "metadata": {},
     "output_type": "display_data"
    },
    {
     "data": {
      "application/vnd.jupyter.widget-view+json": {
       "model_id": "0d77b042a625492e91938bef4246b8e0",
       "version_major": 2,
       "version_minor": 0
      },
      "text/plain": [
       "Pandas Apply:   0%|          | 0/373 [00:00<?, ?it/s]"
      ]
     },
     "metadata": {},
     "output_type": "display_data"
    },
    {
     "data": {
      "application/vnd.jupyter.widget-view+json": {
       "model_id": "504be2c2f1844b37957b5bc859d9453b",
       "version_major": 2,
       "version_minor": 0
      },
      "text/plain": [
       "Pandas Apply:   0%|          | 0/373 [00:00<?, ?it/s]"
      ]
     },
     "metadata": {},
     "output_type": "display_data"
    },
    {
     "data": {
      "application/vnd.jupyter.widget-view+json": {
       "model_id": "748a102bb8504382a7daa705f325165e",
       "version_major": 2,
       "version_minor": 0
      },
      "text/plain": [
       "Pandas Apply:   0%|          | 0/373 [00:00<?, ?it/s]"
      ]
     },
     "metadata": {},
     "output_type": "display_data"
    },
    {
     "data": {
      "application/vnd.jupyter.widget-view+json": {
       "model_id": "350ed5bdfca44893a6ab20677386576b",
       "version_major": 2,
       "version_minor": 0
      },
      "text/plain": [
       "Pandas Apply:   0%|          | 0/373 [00:00<?, ?it/s]"
      ]
     },
     "metadata": {},
     "output_type": "display_data"
    },
    {
     "data": {
      "application/vnd.jupyter.widget-view+json": {
       "model_id": "ff9ab34074d0498796aeb33f77edc6d6",
       "version_major": 2,
       "version_minor": 0
      },
      "text/plain": [
       "Pandas Apply:   0%|          | 0/5 [00:00<?, ?it/s]"
      ]
     },
     "metadata": {},
     "output_type": "display_data"
    },
    {
     "data": {
      "application/vnd.jupyter.widget-view+json": {
       "model_id": "3de8929925904d88830ab8c461529d59",
       "version_major": 2,
       "version_minor": 0
      },
      "text/plain": [
       "Pandas Apply:   0%|          | 0/5 [00:00<?, ?it/s]"
      ]
     },
     "metadata": {},
     "output_type": "display_data"
    },
    {
     "data": {
      "application/vnd.jupyter.widget-view+json": {
       "model_id": "db64f11901cc4f578f283d7250b12413",
       "version_major": 2,
       "version_minor": 0
      },
      "text/plain": [
       "Pandas Apply:   0%|          | 0/5 [00:00<?, ?it/s]"
      ]
     },
     "metadata": {},
     "output_type": "display_data"
    },
    {
     "data": {
      "application/vnd.jupyter.widget-view+json": {
       "model_id": "cda98fe6b3b445f1ae54befa6f78ea99",
       "version_major": 2,
       "version_minor": 0
      },
      "text/plain": [
       "Pandas Apply:   0%|          | 0/5 [00:00<?, ?it/s]"
      ]
     },
     "metadata": {},
     "output_type": "display_data"
    },
    {
     "name": "stdout",
     "output_type": "stream",
     "text": [
      "The input Threshold was 10\n",
      "The calculated threshold is 8.275538004291125\n"
     ]
    },
    {
     "data": {
      "application/vnd.jupyter.widget-view+json": {
       "model_id": "211122d564554d35835afad2df7d858b",
       "version_major": 2,
       "version_minor": 0
      },
      "text/plain": [
       "Pandas Apply:   0%|          | 0/373 [00:00<?, ?it/s]"
      ]
     },
     "metadata": {},
     "output_type": "display_data"
    },
    {
     "data": {
      "application/vnd.jupyter.widget-view+json": {
       "model_id": "0958a6cd50f94dfaa26241a964f51041",
       "version_major": 2,
       "version_minor": 0
      },
      "text/plain": [
       "Pandas Apply:   0%|          | 0/373 [00:00<?, ?it/s]"
      ]
     },
     "metadata": {},
     "output_type": "display_data"
    },
    {
     "data": {
      "application/vnd.jupyter.widget-view+json": {
       "model_id": "38cfc5066fa34ccda159bdc8dbd7e769",
       "version_major": 2,
       "version_minor": 0
      },
      "text/plain": [
       "Pandas Apply:   0%|          | 0/373 [00:00<?, ?it/s]"
      ]
     },
     "metadata": {},
     "output_type": "display_data"
    },
    {
     "data": {
      "application/vnd.jupyter.widget-view+json": {
       "model_id": "99962778e9584811a2783235157b39ea",
       "version_major": 2,
       "version_minor": 0
      },
      "text/plain": [
       "Pandas Apply:   0%|          | 0/373 [00:00<?, ?it/s]"
      ]
     },
     "metadata": {},
     "output_type": "display_data"
    },
    {
     "data": {
      "application/vnd.jupyter.widget-view+json": {
       "model_id": "afceab696c1c4b47b5747cce0499b68d",
       "version_major": 2,
       "version_minor": 0
      },
      "text/plain": [
       "Pandas Apply:   0%|          | 0/373 [00:00<?, ?it/s]"
      ]
     },
     "metadata": {},
     "output_type": "display_data"
    },
    {
     "data": {
      "application/vnd.jupyter.widget-view+json": {
       "model_id": "4fd00240f3d5442c90e4bc3e4b803e68",
       "version_major": 2,
       "version_minor": 0
      },
      "text/plain": [
       "Pandas Apply:   0%|          | 0/5 [00:00<?, ?it/s]"
      ]
     },
     "metadata": {},
     "output_type": "display_data"
    },
    {
     "data": {
      "application/vnd.jupyter.widget-view+json": {
       "model_id": "f3a8e4cef38448d1ba351a20b61985e4",
       "version_major": 2,
       "version_minor": 0
      },
      "text/plain": [
       "Pandas Apply:   0%|          | 0/5 [00:00<?, ?it/s]"
      ]
     },
     "metadata": {},
     "output_type": "display_data"
    },
    {
     "data": {
      "application/vnd.jupyter.widget-view+json": {
       "model_id": "77383f087049486788233bcb186edbd4",
       "version_major": 2,
       "version_minor": 0
      },
      "text/plain": [
       "Pandas Apply:   0%|          | 0/5 [00:00<?, ?it/s]"
      ]
     },
     "metadata": {},
     "output_type": "display_data"
    },
    {
     "name": "stdout",
     "output_type": "stream",
     "text": [
      "The input Threshold was 10\n",
      "The calculated threshold is 9.959449763169422\n"
     ]
    },
    {
     "data": {
      "application/vnd.jupyter.widget-view+json": {
       "model_id": "87d809f5273c4a6e969a7ec4e30a1362",
       "version_major": 2,
       "version_minor": 0
      },
      "text/plain": [
       "Pandas Apply:   0%|          | 0/373 [00:00<?, ?it/s]"
      ]
     },
     "metadata": {},
     "output_type": "display_data"
    },
    {
     "data": {
      "application/vnd.jupyter.widget-view+json": {
       "model_id": "e02cb43ce2fb46cebeb644e4b590443f",
       "version_major": 2,
       "version_minor": 0
      },
      "text/plain": [
       "Pandas Apply:   0%|          | 0/373 [00:00<?, ?it/s]"
      ]
     },
     "metadata": {},
     "output_type": "display_data"
    },
    {
     "data": {
      "application/vnd.jupyter.widget-view+json": {
       "model_id": "11d9cc73ccf7430d9e6e904a2a374b51",
       "version_major": 2,
       "version_minor": 0
      },
      "text/plain": [
       "Pandas Apply:   0%|          | 0/373 [00:00<?, ?it/s]"
      ]
     },
     "metadata": {},
     "output_type": "display_data"
    },
    {
     "data": {
      "application/vnd.jupyter.widget-view+json": {
       "model_id": "9a04324db31046dab9a177c2139860d9",
       "version_major": 2,
       "version_minor": 0
      },
      "text/plain": [
       "Pandas Apply:   0%|          | 0/373 [00:00<?, ?it/s]"
      ]
     },
     "metadata": {},
     "output_type": "display_data"
    },
    {
     "data": {
      "application/vnd.jupyter.widget-view+json": {
       "model_id": "8c234cde09ac4ecf90597a9d74b69197",
       "version_major": 2,
       "version_minor": 0
      },
      "text/plain": [
       "Pandas Apply:   0%|          | 0/373 [00:00<?, ?it/s]"
      ]
     },
     "metadata": {},
     "output_type": "display_data"
    },
    {
     "data": {
      "application/vnd.jupyter.widget-view+json": {
       "model_id": "08e4dccce99a4a0087b89abb233120dc",
       "version_major": 2,
       "version_minor": 0
      },
      "text/plain": [
       "Pandas Apply:   0%|          | 0/5 [00:00<?, ?it/s]"
      ]
     },
     "metadata": {},
     "output_type": "display_data"
    },
    {
     "data": {
      "application/vnd.jupyter.widget-view+json": {
       "model_id": "7523182e9137473496d752a59387ad69",
       "version_major": 2,
       "version_minor": 0
      },
      "text/plain": [
       "Pandas Apply:   0%|          | 0/5 [00:00<?, ?it/s]"
      ]
     },
     "metadata": {},
     "output_type": "display_data"
    },
    {
     "data": {
      "application/vnd.jupyter.widget-view+json": {
       "model_id": "c8c1e373aa6d4cef8e3ab53a5bf18f02",
       "version_major": 2,
       "version_minor": 0
      },
      "text/plain": [
       "Pandas Apply:   0%|          | 0/5 [00:00<?, ?it/s]"
      ]
     },
     "metadata": {},
     "output_type": "display_data"
    },
    {
     "data": {
      "application/vnd.jupyter.widget-view+json": {
       "model_id": "aace09ccce0c42ffa31ec01f4319d696",
       "version_major": 2,
       "version_minor": 0
      },
      "text/plain": [
       "Pandas Apply:   0%|          | 0/5 [00:00<?, ?it/s]"
      ]
     },
     "metadata": {},
     "output_type": "display_data"
    },
    {
     "data": {
      "application/vnd.jupyter.widget-view+json": {
       "model_id": "407b354666f74498b72c8dbdc90e8629",
       "version_major": 2,
       "version_minor": 0
      },
      "text/plain": [
       "Pandas Apply:   0%|          | 0/5 [00:00<?, ?it/s]"
      ]
     },
     "metadata": {},
     "output_type": "display_data"
    },
    {
     "data": {
      "application/vnd.jupyter.widget-view+json": {
       "model_id": "68ca9eac524f46b1bd17ba8ca24735a0",
       "version_major": 2,
       "version_minor": 0
      },
      "text/plain": [
       "Pandas Apply:   0%|          | 0/5 [00:00<?, ?it/s]"
      ]
     },
     "metadata": {},
     "output_type": "display_data"
    },
    {
     "name": "stdout",
     "output_type": "stream",
     "text": [
      "The input Threshold was 10\n",
      "The calculated threshold is 7.431195069291874\n"
     ]
    },
    {
     "data": {
      "application/vnd.jupyter.widget-view+json": {
       "model_id": "a0bc5d0543824a0e91a91628a46a842c",
       "version_major": 2,
       "version_minor": 0
      },
      "text/plain": [
       "Pandas Apply:   0%|          | 0/373 [00:00<?, ?it/s]"
      ]
     },
     "metadata": {},
     "output_type": "display_data"
    },
    {
     "data": {
      "application/vnd.jupyter.widget-view+json": {
       "model_id": "4d4bbdcd995d4d078b7d415af29abf0f",
       "version_major": 2,
       "version_minor": 0
      },
      "text/plain": [
       "Pandas Apply:   0%|          | 0/373 [00:00<?, ?it/s]"
      ]
     },
     "metadata": {},
     "output_type": "display_data"
    },
    {
     "data": {
      "application/vnd.jupyter.widget-view+json": {
       "model_id": "c5ce2587a4a34d93883dce94c2360074",
       "version_major": 2,
       "version_minor": 0
      },
      "text/plain": [
       "Pandas Apply:   0%|          | 0/373 [00:00<?, ?it/s]"
      ]
     },
     "metadata": {},
     "output_type": "display_data"
    },
    {
     "data": {
      "application/vnd.jupyter.widget-view+json": {
       "model_id": "16ea2184e3534870b06b1aba25ab618e",
       "version_major": 2,
       "version_minor": 0
      },
      "text/plain": [
       "Pandas Apply:   0%|          | 0/373 [00:00<?, ?it/s]"
      ]
     },
     "metadata": {},
     "output_type": "display_data"
    },
    {
     "data": {
      "application/vnd.jupyter.widget-view+json": {
       "model_id": "15269c6e05a44c5db662d7bcc46a09ba",
       "version_major": 2,
       "version_minor": 0
      },
      "text/plain": [
       "Pandas Apply:   0%|          | 0/373 [00:00<?, ?it/s]"
      ]
     },
     "metadata": {},
     "output_type": "display_data"
    },
    {
     "data": {
      "application/vnd.jupyter.widget-view+json": {
       "model_id": "0ed249f029194f919abaef004c509d91",
       "version_major": 2,
       "version_minor": 0
      },
      "text/plain": [
       "Pandas Apply:   0%|          | 0/5 [00:00<?, ?it/s]"
      ]
     },
     "metadata": {},
     "output_type": "display_data"
    },
    {
     "data": {
      "application/vnd.jupyter.widget-view+json": {
       "model_id": "966c764d307a41c0ac6bfb0c85118b3c",
       "version_major": 2,
       "version_minor": 0
      },
      "text/plain": [
       "Pandas Apply:   0%|          | 0/5 [00:00<?, ?it/s]"
      ]
     },
     "metadata": {},
     "output_type": "display_data"
    },
    {
     "data": {
      "application/vnd.jupyter.widget-view+json": {
       "model_id": "9957841e93b04f6da5d4b191115b144a",
       "version_major": 2,
       "version_minor": 0
      },
      "text/plain": [
       "Pandas Apply:   0%|          | 0/5 [00:00<?, ?it/s]"
      ]
     },
     "metadata": {},
     "output_type": "display_data"
    },
    {
     "data": {
      "application/vnd.jupyter.widget-view+json": {
       "model_id": "56e3728544cb4d8fbacaa6d81e6c6a78",
       "version_major": 2,
       "version_minor": 0
      },
      "text/plain": [
       "Pandas Apply:   0%|          | 0/5 [00:00<?, ?it/s]"
      ]
     },
     "metadata": {},
     "output_type": "display_data"
    },
    {
     "data": {
      "application/vnd.jupyter.widget-view+json": {
       "model_id": "bcc8b96569da4655b9e1fc6602c9b01e",
       "version_major": 2,
       "version_minor": 0
      },
      "text/plain": [
       "Pandas Apply:   0%|          | 0/5 [00:00<?, ?it/s]"
      ]
     },
     "metadata": {},
     "output_type": "display_data"
    },
    {
     "name": "stdout",
     "output_type": "stream",
     "text": [
      "The input Threshold was 10\n",
      "The calculated threshold is 8.270095428648855\n"
     ]
    },
    {
     "data": {
      "application/vnd.jupyter.widget-view+json": {
       "model_id": "04e00fdf114948df8fcfc0494cee028e",
       "version_major": 2,
       "version_minor": 0
      },
      "text/plain": [
       "Pandas Apply:   0%|          | 0/373 [00:00<?, ?it/s]"
      ]
     },
     "metadata": {},
     "output_type": "display_data"
    },
    {
     "data": {
      "application/vnd.jupyter.widget-view+json": {
       "model_id": "f117b888e4ed48f7915a1da2794aeec6",
       "version_major": 2,
       "version_minor": 0
      },
      "text/plain": [
       "Pandas Apply:   0%|          | 0/373 [00:00<?, ?it/s]"
      ]
     },
     "metadata": {},
     "output_type": "display_data"
    },
    {
     "data": {
      "application/vnd.jupyter.widget-view+json": {
       "model_id": "c5960b01702942a693cc10ba28336b30",
       "version_major": 2,
       "version_minor": 0
      },
      "text/plain": [
       "Pandas Apply:   0%|          | 0/373 [00:00<?, ?it/s]"
      ]
     },
     "metadata": {},
     "output_type": "display_data"
    },
    {
     "data": {
      "application/vnd.jupyter.widget-view+json": {
       "model_id": "a7aa1b9bc4bb45da88e7d4e00a3cfd46",
       "version_major": 2,
       "version_minor": 0
      },
      "text/plain": [
       "Pandas Apply:   0%|          | 0/373 [00:00<?, ?it/s]"
      ]
     },
     "metadata": {},
     "output_type": "display_data"
    },
    {
     "data": {
      "application/vnd.jupyter.widget-view+json": {
       "model_id": "f4f88aaac70045fca95c4fa40435c2c3",
       "version_major": 2,
       "version_minor": 0
      },
      "text/plain": [
       "Pandas Apply:   0%|          | 0/373 [00:00<?, ?it/s]"
      ]
     },
     "metadata": {},
     "output_type": "display_data"
    },
    {
     "data": {
      "application/vnd.jupyter.widget-view+json": {
       "model_id": "9bfc1d6a4a2f4c89834d20c62ea59b9d",
       "version_major": 2,
       "version_minor": 0
      },
      "text/plain": [
       "Pandas Apply:   0%|          | 0/5 [00:00<?, ?it/s]"
      ]
     },
     "metadata": {},
     "output_type": "display_data"
    },
    {
     "data": {
      "application/vnd.jupyter.widget-view+json": {
       "model_id": "77a2a1fca1604018bd64407b37c6997b",
       "version_major": 2,
       "version_minor": 0
      },
      "text/plain": [
       "Pandas Apply:   0%|          | 0/5 [00:00<?, ?it/s]"
      ]
     },
     "metadata": {},
     "output_type": "display_data"
    },
    {
     "data": {
      "application/vnd.jupyter.widget-view+json": {
       "model_id": "88bf23ae8d344305a6364fd524aeddeb",
       "version_major": 2,
       "version_minor": 0
      },
      "text/plain": [
       "Pandas Apply:   0%|          | 0/5 [00:00<?, ?it/s]"
      ]
     },
     "metadata": {},
     "output_type": "display_data"
    },
    {
     "data": {
      "application/vnd.jupyter.widget-view+json": {
       "model_id": "4ac6acd1b3ba41979e31234c9339bc3f",
       "version_major": 2,
       "version_minor": 0
      },
      "text/plain": [
       "Pandas Apply:   0%|          | 0/5 [00:00<?, ?it/s]"
      ]
     },
     "metadata": {},
     "output_type": "display_data"
    },
    {
     "data": {
      "application/vnd.jupyter.widget-view+json": {
       "model_id": "28d0cf67e4bd45f4997f5af14a785a52",
       "version_major": 2,
       "version_minor": 0
      },
      "text/plain": [
       "Pandas Apply:   0%|          | 0/5 [00:00<?, ?it/s]"
      ]
     },
     "metadata": {},
     "output_type": "display_data"
    },
    {
     "name": "stdout",
     "output_type": "stream",
     "text": [
      "The input Threshold was 10\n",
      "The calculated threshold is 8.130537374242255\n"
     ]
    },
    {
     "data": {
      "application/vnd.jupyter.widget-view+json": {
       "model_id": "57c77860f0cf402b9516f84574111353",
       "version_major": 2,
       "version_minor": 0
      },
      "text/plain": [
       "Pandas Apply:   0%|          | 0/373 [00:00<?, ?it/s]"
      ]
     },
     "metadata": {},
     "output_type": "display_data"
    },
    {
     "data": {
      "application/vnd.jupyter.widget-view+json": {
       "model_id": "3ebc183cc0564d1a92218461cfa85b66",
       "version_major": 2,
       "version_minor": 0
      },
      "text/plain": [
       "Pandas Apply:   0%|          | 0/373 [00:00<?, ?it/s]"
      ]
     },
     "metadata": {},
     "output_type": "display_data"
    },
    {
     "data": {
      "application/vnd.jupyter.widget-view+json": {
       "model_id": "27fe70d6c3fa4eb492bb8604e0236da6",
       "version_major": 2,
       "version_minor": 0
      },
      "text/plain": [
       "Pandas Apply:   0%|          | 0/373 [00:00<?, ?it/s]"
      ]
     },
     "metadata": {},
     "output_type": "display_data"
    },
    {
     "data": {
      "application/vnd.jupyter.widget-view+json": {
       "model_id": "522ad4bf722843cc82059af269b5dcf0",
       "version_major": 2,
       "version_minor": 0
      },
      "text/plain": [
       "Pandas Apply:   0%|          | 0/373 [00:00<?, ?it/s]"
      ]
     },
     "metadata": {},
     "output_type": "display_data"
    },
    {
     "data": {
      "application/vnd.jupyter.widget-view+json": {
       "model_id": "615d60cb22e3462fb7545ae964a833e9",
       "version_major": 2,
       "version_minor": 0
      },
      "text/plain": [
       "Pandas Apply:   0%|          | 0/373 [00:00<?, ?it/s]"
      ]
     },
     "metadata": {},
     "output_type": "display_data"
    },
    {
     "data": {
      "application/vnd.jupyter.widget-view+json": {
       "model_id": "27984cbfd1114e118d9311c54be8bddd",
       "version_major": 2,
       "version_minor": 0
      },
      "text/plain": [
       "Pandas Apply:   0%|          | 0/5 [00:00<?, ?it/s]"
      ]
     },
     "metadata": {},
     "output_type": "display_data"
    },
    {
     "data": {
      "application/vnd.jupyter.widget-view+json": {
       "model_id": "0a6ab4f03d8247f09d7f944e04724ba1",
       "version_major": 2,
       "version_minor": 0
      },
      "text/plain": [
       "Pandas Apply:   0%|          | 0/5 [00:00<?, ?it/s]"
      ]
     },
     "metadata": {},
     "output_type": "display_data"
    },
    {
     "data": {
      "application/vnd.jupyter.widget-view+json": {
       "model_id": "4c31b980e47b41e89dc486c536e06e8d",
       "version_major": 2,
       "version_minor": 0
      },
      "text/plain": [
       "Pandas Apply:   0%|          | 0/5 [00:00<?, ?it/s]"
      ]
     },
     "metadata": {},
     "output_type": "display_data"
    },
    {
     "data": {
      "application/vnd.jupyter.widget-view+json": {
       "model_id": "8a1a882c2bc444af96d921405f483f91",
       "version_major": 2,
       "version_minor": 0
      },
      "text/plain": [
       "Pandas Apply:   0%|          | 0/5 [00:00<?, ?it/s]"
      ]
     },
     "metadata": {},
     "output_type": "display_data"
    },
    {
     "name": "stdout",
     "output_type": "stream",
     "text": [
      "The input Threshold was 10\n",
      "The calculated threshold is 7.425047392128988\n"
     ]
    },
    {
     "data": {
      "application/vnd.jupyter.widget-view+json": {
       "model_id": "98c62cc5cbe749599811272e9df2edc4",
       "version_major": 2,
       "version_minor": 0
      },
      "text/plain": [
       "Pandas Apply:   0%|          | 0/373 [00:00<?, ?it/s]"
      ]
     },
     "metadata": {},
     "output_type": "display_data"
    },
    {
     "data": {
      "application/vnd.jupyter.widget-view+json": {
       "model_id": "a3d554566e994d42be7c1c05ad365c11",
       "version_major": 2,
       "version_minor": 0
      },
      "text/plain": [
       "Pandas Apply:   0%|          | 0/373 [00:00<?, ?it/s]"
      ]
     },
     "metadata": {},
     "output_type": "display_data"
    },
    {
     "data": {
      "application/vnd.jupyter.widget-view+json": {
       "model_id": "6a99b52b93d54db181555ca8e6cd4ce7",
       "version_major": 2,
       "version_minor": 0
      },
      "text/plain": [
       "Pandas Apply:   0%|          | 0/373 [00:00<?, ?it/s]"
      ]
     },
     "metadata": {},
     "output_type": "display_data"
    },
    {
     "data": {
      "application/vnd.jupyter.widget-view+json": {
       "model_id": "dccb865fbd714d2182ef2bcac49ca337",
       "version_major": 2,
       "version_minor": 0
      },
      "text/plain": [
       "Pandas Apply:   0%|          | 0/373 [00:00<?, ?it/s]"
      ]
     },
     "metadata": {},
     "output_type": "display_data"
    },
    {
     "data": {
      "application/vnd.jupyter.widget-view+json": {
       "model_id": "0d79a78d1f4046e88838259835d1deee",
       "version_major": 2,
       "version_minor": 0
      },
      "text/plain": [
       "Pandas Apply:   0%|          | 0/373 [00:00<?, ?it/s]"
      ]
     },
     "metadata": {},
     "output_type": "display_data"
    },
    {
     "data": {
      "application/vnd.jupyter.widget-view+json": {
       "model_id": "b933a4016b7044d58f90dd1188122501",
       "version_major": 2,
       "version_minor": 0
      },
      "text/plain": [
       "Pandas Apply:   0%|          | 0/5 [00:00<?, ?it/s]"
      ]
     },
     "metadata": {},
     "output_type": "display_data"
    },
    {
     "data": {
      "application/vnd.jupyter.widget-view+json": {
       "model_id": "d0d54a6c4eda44519e7f4540ab6cb775",
       "version_major": 2,
       "version_minor": 0
      },
      "text/plain": [
       "Pandas Apply:   0%|          | 0/5 [00:00<?, ?it/s]"
      ]
     },
     "metadata": {},
     "output_type": "display_data"
    },
    {
     "data": {
      "application/vnd.jupyter.widget-view+json": {
       "model_id": "197d2a692da64f8cac88c1b85aef2a33",
       "version_major": 2,
       "version_minor": 0
      },
      "text/plain": [
       "Pandas Apply:   0%|          | 0/5 [00:00<?, ?it/s]"
      ]
     },
     "metadata": {},
     "output_type": "display_data"
    },
    {
     "name": "stdout",
     "output_type": "stream",
     "text": [
      "The input Threshold was 10\n",
      "The calculated threshold is 9.373045365017001\n"
     ]
    },
    {
     "data": {
      "application/vnd.jupyter.widget-view+json": {
       "model_id": "0505bf289cb442149da2038dc6acf45b",
       "version_major": 2,
       "version_minor": 0
      },
      "text/plain": [
       "Pandas Apply:   0%|          | 0/373 [00:00<?, ?it/s]"
      ]
     },
     "metadata": {},
     "output_type": "display_data"
    },
    {
     "data": {
      "application/vnd.jupyter.widget-view+json": {
       "model_id": "07c9f1d1d734484d9be8bd54b4dfb540",
       "version_major": 2,
       "version_minor": 0
      },
      "text/plain": [
       "Pandas Apply:   0%|          | 0/373 [00:00<?, ?it/s]"
      ]
     },
     "metadata": {},
     "output_type": "display_data"
    },
    {
     "data": {
      "application/vnd.jupyter.widget-view+json": {
       "model_id": "2c27b9e17ef247159583caada696422d",
       "version_major": 2,
       "version_minor": 0
      },
      "text/plain": [
       "Pandas Apply:   0%|          | 0/373 [00:00<?, ?it/s]"
      ]
     },
     "metadata": {},
     "output_type": "display_data"
    },
    {
     "data": {
      "application/vnd.jupyter.widget-view+json": {
       "model_id": "b31b309f20fe4d438ce3df85aa32aa4f",
       "version_major": 2,
       "version_minor": 0
      },
      "text/plain": [
       "Pandas Apply:   0%|          | 0/373 [00:00<?, ?it/s]"
      ]
     },
     "metadata": {},
     "output_type": "display_data"
    },
    {
     "data": {
      "application/vnd.jupyter.widget-view+json": {
       "model_id": "bb1612f6b5d14d2fa6925fbe39222b72",
       "version_major": 2,
       "version_minor": 0
      },
      "text/plain": [
       "Pandas Apply:   0%|          | 0/373 [00:00<?, ?it/s]"
      ]
     },
     "metadata": {},
     "output_type": "display_data"
    },
    {
     "data": {
      "application/vnd.jupyter.widget-view+json": {
       "model_id": "fd53126acd664177b53ba4c47bcd390d",
       "version_major": 2,
       "version_minor": 0
      },
      "text/plain": [
       "Pandas Apply:   0%|          | 0/5 [00:00<?, ?it/s]"
      ]
     },
     "metadata": {},
     "output_type": "display_data"
    },
    {
     "data": {
      "application/vnd.jupyter.widget-view+json": {
       "model_id": "c50aa57786284a61bc47e858efcb463d",
       "version_major": 2,
       "version_minor": 0
      },
      "text/plain": [
       "Pandas Apply:   0%|          | 0/5 [00:00<?, ?it/s]"
      ]
     },
     "metadata": {},
     "output_type": "display_data"
    },
    {
     "data": {
      "application/vnd.jupyter.widget-view+json": {
       "model_id": "167fb75e67cc490498f8b04123247fa4",
       "version_major": 2,
       "version_minor": 0
      },
      "text/plain": [
       "Pandas Apply:   0%|          | 0/5 [00:00<?, ?it/s]"
      ]
     },
     "metadata": {},
     "output_type": "display_data"
    },
    {
     "name": "stdout",
     "output_type": "stream",
     "text": [
      "The input Threshold was 10\n",
      "The calculated threshold is 6.016454933821896\n"
     ]
    },
    {
     "data": {
      "application/vnd.jupyter.widget-view+json": {
       "model_id": "17c9f3945dea4d7ab14e57e7285d9213",
       "version_major": 2,
       "version_minor": 0
      },
      "text/plain": [
       "Pandas Apply:   0%|          | 0/373 [00:00<?, ?it/s]"
      ]
     },
     "metadata": {},
     "output_type": "display_data"
    },
    {
     "data": {
      "application/vnd.jupyter.widget-view+json": {
       "model_id": "93ccb5e933be4b508d741f6151c31207",
       "version_major": 2,
       "version_minor": 0
      },
      "text/plain": [
       "Pandas Apply:   0%|          | 0/373 [00:00<?, ?it/s]"
      ]
     },
     "metadata": {},
     "output_type": "display_data"
    },
    {
     "data": {
      "application/vnd.jupyter.widget-view+json": {
       "model_id": "3cd01f78261b4b21bc40789e780f5664",
       "version_major": 2,
       "version_minor": 0
      },
      "text/plain": [
       "Pandas Apply:   0%|          | 0/373 [00:00<?, ?it/s]"
      ]
     },
     "metadata": {},
     "output_type": "display_data"
    },
    {
     "data": {
      "application/vnd.jupyter.widget-view+json": {
       "model_id": "df7d13bc213742228a4b6f68ed2acd55",
       "version_major": 2,
       "version_minor": 0
      },
      "text/plain": [
       "Pandas Apply:   0%|          | 0/373 [00:00<?, ?it/s]"
      ]
     },
     "metadata": {},
     "output_type": "display_data"
    },
    {
     "data": {
      "application/vnd.jupyter.widget-view+json": {
       "model_id": "f5a716624eb440649518f8197f20b2e7",
       "version_major": 2,
       "version_minor": 0
      },
      "text/plain": [
       "Pandas Apply:   0%|          | 0/373 [00:00<?, ?it/s]"
      ]
     },
     "metadata": {},
     "output_type": "display_data"
    },
    {
     "data": {
      "application/vnd.jupyter.widget-view+json": {
       "model_id": "9349f40ba1044157a76527a7cb686d37",
       "version_major": 2,
       "version_minor": 0
      },
      "text/plain": [
       "Pandas Apply:   0%|          | 0/5 [00:00<?, ?it/s]"
      ]
     },
     "metadata": {},
     "output_type": "display_data"
    },
    {
     "data": {
      "application/vnd.jupyter.widget-view+json": {
       "model_id": "f78b36e3ae46495aa3c557bc39eb95ee",
       "version_major": 2,
       "version_minor": 0
      },
      "text/plain": [
       "Pandas Apply:   0%|          | 0/5 [00:00<?, ?it/s]"
      ]
     },
     "metadata": {},
     "output_type": "display_data"
    },
    {
     "data": {
      "application/vnd.jupyter.widget-view+json": {
       "model_id": "4b77865bff25432fabd20cfabca5b3cc",
       "version_major": 2,
       "version_minor": 0
      },
      "text/plain": [
       "Pandas Apply:   0%|          | 0/5 [00:00<?, ?it/s]"
      ]
     },
     "metadata": {},
     "output_type": "display_data"
    },
    {
     "data": {
      "application/vnd.jupyter.widget-view+json": {
       "model_id": "ddd86ff139564056b354dccd4a2ae65d",
       "version_major": 2,
       "version_minor": 0
      },
      "text/plain": [
       "Pandas Apply:   0%|          | 0/5 [00:00<?, ?it/s]"
      ]
     },
     "metadata": {},
     "output_type": "display_data"
    },
    {
     "name": "stdout",
     "output_type": "stream",
     "text": [
      "The input Threshold was 10\n",
      "The calculated threshold is 7.752687483035156\n"
     ]
    },
    {
     "data": {
      "application/vnd.jupyter.widget-view+json": {
       "model_id": "acceda5de6544160bdaf3903529c87f4",
       "version_major": 2,
       "version_minor": 0
      },
      "text/plain": [
       "Pandas Apply:   0%|          | 0/373 [00:00<?, ?it/s]"
      ]
     },
     "metadata": {},
     "output_type": "display_data"
    },
    {
     "data": {
      "application/vnd.jupyter.widget-view+json": {
       "model_id": "d0c06cd4ff364cb290a1d0bfa9742334",
       "version_major": 2,
       "version_minor": 0
      },
      "text/plain": [
       "Pandas Apply:   0%|          | 0/373 [00:00<?, ?it/s]"
      ]
     },
     "metadata": {},
     "output_type": "display_data"
    },
    {
     "data": {
      "application/vnd.jupyter.widget-view+json": {
       "model_id": "0e0f936b6b3c4efe98eabc91e76cc01d",
       "version_major": 2,
       "version_minor": 0
      },
      "text/plain": [
       "Pandas Apply:   0%|          | 0/373 [00:00<?, ?it/s]"
      ]
     },
     "metadata": {},
     "output_type": "display_data"
    },
    {
     "data": {
      "application/vnd.jupyter.widget-view+json": {
       "model_id": "641382b1ad9a4d53b0ee83456528197e",
       "version_major": 2,
       "version_minor": 0
      },
      "text/plain": [
       "Pandas Apply:   0%|          | 0/373 [00:00<?, ?it/s]"
      ]
     },
     "metadata": {},
     "output_type": "display_data"
    },
    {
     "data": {
      "application/vnd.jupyter.widget-view+json": {
       "model_id": "7a857f264dea4c14860b2be424c16096",
       "version_major": 2,
       "version_minor": 0
      },
      "text/plain": [
       "Pandas Apply:   0%|          | 0/373 [00:00<?, ?it/s]"
      ]
     },
     "metadata": {},
     "output_type": "display_data"
    },
    {
     "data": {
      "application/vnd.jupyter.widget-view+json": {
       "model_id": "f6a26fe642734abc9b991e5c6f400380",
       "version_major": 2,
       "version_minor": 0
      },
      "text/plain": [
       "Pandas Apply:   0%|          | 0/5 [00:00<?, ?it/s]"
      ]
     },
     "metadata": {},
     "output_type": "display_data"
    },
    {
     "data": {
      "application/vnd.jupyter.widget-view+json": {
       "model_id": "57d4a43a1cf742f7a5f656f9fc56356f",
       "version_major": 2,
       "version_minor": 0
      },
      "text/plain": [
       "Pandas Apply:   0%|          | 0/5 [00:00<?, ?it/s]"
      ]
     },
     "metadata": {},
     "output_type": "display_data"
    },
    {
     "data": {
      "application/vnd.jupyter.widget-view+json": {
       "model_id": "2dc899598ada4551ac78a9fac08ec440",
       "version_major": 2,
       "version_minor": 0
      },
      "text/plain": [
       "Pandas Apply:   0%|          | 0/5 [00:00<?, ?it/s]"
      ]
     },
     "metadata": {},
     "output_type": "display_data"
    },
    {
     "name": "stdout",
     "output_type": "stream",
     "text": [
      "The input Threshold was 10\n",
      "The calculated threshold is 5.640850439368327\n"
     ]
    },
    {
     "data": {
      "application/vnd.jupyter.widget-view+json": {
       "model_id": "46a8c4774aaf4508a148a103090d6eea",
       "version_major": 2,
       "version_minor": 0
      },
      "text/plain": [
       "Pandas Apply:   0%|          | 0/373 [00:00<?, ?it/s]"
      ]
     },
     "metadata": {},
     "output_type": "display_data"
    },
    {
     "data": {
      "application/vnd.jupyter.widget-view+json": {
       "model_id": "587d2422c00d4e45b1eb16b0de29263a",
       "version_major": 2,
       "version_minor": 0
      },
      "text/plain": [
       "Pandas Apply:   0%|          | 0/373 [00:00<?, ?it/s]"
      ]
     },
     "metadata": {},
     "output_type": "display_data"
    },
    {
     "data": {
      "application/vnd.jupyter.widget-view+json": {
       "model_id": "41e524cd1f7a45c080173619f8688cb0",
       "version_major": 2,
       "version_minor": 0
      },
      "text/plain": [
       "Pandas Apply:   0%|          | 0/373 [00:00<?, ?it/s]"
      ]
     },
     "metadata": {},
     "output_type": "display_data"
    },
    {
     "data": {
      "application/vnd.jupyter.widget-view+json": {
       "model_id": "9b38626f26384517b24c95ae86786fd5",
       "version_major": 2,
       "version_minor": 0
      },
      "text/plain": [
       "Pandas Apply:   0%|          | 0/373 [00:00<?, ?it/s]"
      ]
     },
     "metadata": {},
     "output_type": "display_data"
    },
    {
     "data": {
      "application/vnd.jupyter.widget-view+json": {
       "model_id": "13d30e91e426431e8440da0397664146",
       "version_major": 2,
       "version_minor": 0
      },
      "text/plain": [
       "Pandas Apply:   0%|          | 0/373 [00:00<?, ?it/s]"
      ]
     },
     "metadata": {},
     "output_type": "display_data"
    },
    {
     "data": {
      "application/vnd.jupyter.widget-view+json": {
       "model_id": "6e89566b4a0448bf9956eb45b3516945",
       "version_major": 2,
       "version_minor": 0
      },
      "text/plain": [
       "Pandas Apply:   0%|          | 0/5 [00:00<?, ?it/s]"
      ]
     },
     "metadata": {},
     "output_type": "display_data"
    },
    {
     "data": {
      "application/vnd.jupyter.widget-view+json": {
       "model_id": "d91cbf581a424e61bd370e0df7447f26",
       "version_major": 2,
       "version_minor": 0
      },
      "text/plain": [
       "Pandas Apply:   0%|          | 0/5 [00:00<?, ?it/s]"
      ]
     },
     "metadata": {},
     "output_type": "display_data"
    },
    {
     "data": {
      "application/vnd.jupyter.widget-view+json": {
       "model_id": "81dfca1764994b209138cc088ebfc7f2",
       "version_major": 2,
       "version_minor": 0
      },
      "text/plain": [
       "Pandas Apply:   0%|          | 0/5 [00:00<?, ?it/s]"
      ]
     },
     "metadata": {},
     "output_type": "display_data"
    },
    {
     "name": "stdout",
     "output_type": "stream",
     "text": [
      "The input Threshold was 10\n",
      "The calculated threshold is 7.413690611249291\n"
     ]
    },
    {
     "data": {
      "application/vnd.jupyter.widget-view+json": {
       "model_id": "92aaa6d71e6a473eb0bacaad98d146ed",
       "version_major": 2,
       "version_minor": 0
      },
      "text/plain": [
       "Pandas Apply:   0%|          | 0/373 [00:00<?, ?it/s]"
      ]
     },
     "metadata": {},
     "output_type": "display_data"
    },
    {
     "data": {
      "application/vnd.jupyter.widget-view+json": {
       "model_id": "b5291555b31d492c9a95f44ba5eb5659",
       "version_major": 2,
       "version_minor": 0
      },
      "text/plain": [
       "Pandas Apply:   0%|          | 0/373 [00:00<?, ?it/s]"
      ]
     },
     "metadata": {},
     "output_type": "display_data"
    },
    {
     "data": {
      "application/vnd.jupyter.widget-view+json": {
       "model_id": "9304b882bc08441c9437255af4b72374",
       "version_major": 2,
       "version_minor": 0
      },
      "text/plain": [
       "Pandas Apply:   0%|          | 0/373 [00:00<?, ?it/s]"
      ]
     },
     "metadata": {},
     "output_type": "display_data"
    },
    {
     "data": {
      "application/vnd.jupyter.widget-view+json": {
       "model_id": "bc608f2d675045e79e736e159541a233",
       "version_major": 2,
       "version_minor": 0
      },
      "text/plain": [
       "Pandas Apply:   0%|          | 0/373 [00:00<?, ?it/s]"
      ]
     },
     "metadata": {},
     "output_type": "display_data"
    },
    {
     "data": {
      "application/vnd.jupyter.widget-view+json": {
       "model_id": "a44953eacd734e1cb89de83fcd4f65bb",
       "version_major": 2,
       "version_minor": 0
      },
      "text/plain": [
       "Pandas Apply:   0%|          | 0/373 [00:00<?, ?it/s]"
      ]
     },
     "metadata": {},
     "output_type": "display_data"
    },
    {
     "data": {
      "application/vnd.jupyter.widget-view+json": {
       "model_id": "15bb994aea0744a4af6dd9935873a4d2",
       "version_major": 2,
       "version_minor": 0
      },
      "text/plain": [
       "Pandas Apply:   0%|          | 0/5 [00:00<?, ?it/s]"
      ]
     },
     "metadata": {},
     "output_type": "display_data"
    },
    {
     "data": {
      "application/vnd.jupyter.widget-view+json": {
       "model_id": "721d1f6692d1425d9702bae1c4b2f954",
       "version_major": 2,
       "version_minor": 0
      },
      "text/plain": [
       "Pandas Apply:   0%|          | 0/5 [00:00<?, ?it/s]"
      ]
     },
     "metadata": {},
     "output_type": "display_data"
    },
    {
     "data": {
      "application/vnd.jupyter.widget-view+json": {
       "model_id": "c69a4493ac2e43eabede4886fd55e221",
       "version_major": 2,
       "version_minor": 0
      },
      "text/plain": [
       "Pandas Apply:   0%|          | 0/5 [00:00<?, ?it/s]"
      ]
     },
     "metadata": {},
     "output_type": "display_data"
    },
    {
     "data": {
      "application/vnd.jupyter.widget-view+json": {
       "model_id": "fdbcf3f0e28f487fb1d676a47e48be3a",
       "version_major": 2,
       "version_minor": 0
      },
      "text/plain": [
       "Pandas Apply:   0%|          | 0/5 [00:00<?, ?it/s]"
      ]
     },
     "metadata": {},
     "output_type": "display_data"
    },
    {
     "name": "stdout",
     "output_type": "stream",
     "text": [
      "The input Threshold was 10\n",
      "The calculated threshold is 7.668521069873546\n"
     ]
    },
    {
     "data": {
      "application/vnd.jupyter.widget-view+json": {
       "model_id": "3a35853a0e3b41df8672a2c044abca79",
       "version_major": 2,
       "version_minor": 0
      },
      "text/plain": [
       "Pandas Apply:   0%|          | 0/373 [00:00<?, ?it/s]"
      ]
     },
     "metadata": {},
     "output_type": "display_data"
    },
    {
     "data": {
      "application/vnd.jupyter.widget-view+json": {
       "model_id": "50d7fa965ada451b9c4dba4f0390ed15",
       "version_major": 2,
       "version_minor": 0
      },
      "text/plain": [
       "Pandas Apply:   0%|          | 0/373 [00:00<?, ?it/s]"
      ]
     },
     "metadata": {},
     "output_type": "display_data"
    },
    {
     "data": {
      "application/vnd.jupyter.widget-view+json": {
       "model_id": "b77f8a73f638434db400fcd890bd9916",
       "version_major": 2,
       "version_minor": 0
      },
      "text/plain": [
       "Pandas Apply:   0%|          | 0/373 [00:00<?, ?it/s]"
      ]
     },
     "metadata": {},
     "output_type": "display_data"
    },
    {
     "data": {
      "application/vnd.jupyter.widget-view+json": {
       "model_id": "811176972c39463da92f159de73e929f",
       "version_major": 2,
       "version_minor": 0
      },
      "text/plain": [
       "Pandas Apply:   0%|          | 0/373 [00:00<?, ?it/s]"
      ]
     },
     "metadata": {},
     "output_type": "display_data"
    },
    {
     "data": {
      "application/vnd.jupyter.widget-view+json": {
       "model_id": "b624d548ddce4cefaeadb09817900c0b",
       "version_major": 2,
       "version_minor": 0
      },
      "text/plain": [
       "Pandas Apply:   0%|          | 0/373 [00:00<?, ?it/s]"
      ]
     },
     "metadata": {},
     "output_type": "display_data"
    },
    {
     "data": {
      "application/vnd.jupyter.widget-view+json": {
       "model_id": "4f060aec79d6493ba96a6958f31853d6",
       "version_major": 2,
       "version_minor": 0
      },
      "text/plain": [
       "Pandas Apply:   0%|          | 0/5 [00:00<?, ?it/s]"
      ]
     },
     "metadata": {},
     "output_type": "display_data"
    },
    {
     "data": {
      "application/vnd.jupyter.widget-view+json": {
       "model_id": "6c16376f3526409ca658de6bd536750a",
       "version_major": 2,
       "version_minor": 0
      },
      "text/plain": [
       "Pandas Apply:   0%|          | 0/5 [00:00<?, ?it/s]"
      ]
     },
     "metadata": {},
     "output_type": "display_data"
    },
    {
     "data": {
      "application/vnd.jupyter.widget-view+json": {
       "model_id": "34544cdb91e14e719639069fdc75324f",
       "version_major": 2,
       "version_minor": 0
      },
      "text/plain": [
       "Pandas Apply:   0%|          | 0/5 [00:00<?, ?it/s]"
      ]
     },
     "metadata": {},
     "output_type": "display_data"
    },
    {
     "data": {
      "application/vnd.jupyter.widget-view+json": {
       "model_id": "489644d18abb421fb33815fef198ff76",
       "version_major": 2,
       "version_minor": 0
      },
      "text/plain": [
       "Pandas Apply:   0%|          | 0/5 [00:00<?, ?it/s]"
      ]
     },
     "metadata": {},
     "output_type": "display_data"
    },
    {
     "name": "stdout",
     "output_type": "stream",
     "text": [
      "The input Threshold was 10\n",
      "The calculated threshold is 9.336357093148234\n"
     ]
    },
    {
     "data": {
      "application/vnd.jupyter.widget-view+json": {
       "model_id": "8c156289115d416cbad62c2846ac1564",
       "version_major": 2,
       "version_minor": 0
      },
      "text/plain": [
       "Pandas Apply:   0%|          | 0/373 [00:00<?, ?it/s]"
      ]
     },
     "metadata": {},
     "output_type": "display_data"
    },
    {
     "data": {
      "application/vnd.jupyter.widget-view+json": {
       "model_id": "62cf9d6e9f5b4cb5a58e11605daf6ab8",
       "version_major": 2,
       "version_minor": 0
      },
      "text/plain": [
       "Pandas Apply:   0%|          | 0/373 [00:00<?, ?it/s]"
      ]
     },
     "metadata": {},
     "output_type": "display_data"
    },
    {
     "data": {
      "application/vnd.jupyter.widget-view+json": {
       "model_id": "1a65736a01a442b7a4dc8ac00c109781",
       "version_major": 2,
       "version_minor": 0
      },
      "text/plain": [
       "Pandas Apply:   0%|          | 0/373 [00:00<?, ?it/s]"
      ]
     },
     "metadata": {},
     "output_type": "display_data"
    },
    {
     "data": {
      "application/vnd.jupyter.widget-view+json": {
       "model_id": "9621150318e34914beb6c7a92bffc8bd",
       "version_major": 2,
       "version_minor": 0
      },
      "text/plain": [
       "Pandas Apply:   0%|          | 0/373 [00:00<?, ?it/s]"
      ]
     },
     "metadata": {},
     "output_type": "display_data"
    },
    {
     "data": {
      "application/vnd.jupyter.widget-view+json": {
       "model_id": "f126b4754b994fd0aaa6425714af3a89",
       "version_major": 2,
       "version_minor": 0
      },
      "text/plain": [
       "Pandas Apply:   0%|          | 0/373 [00:00<?, ?it/s]"
      ]
     },
     "metadata": {},
     "output_type": "display_data"
    },
    {
     "data": {
      "application/vnd.jupyter.widget-view+json": {
       "model_id": "cd718110145b4857b8f3fef2e347f85f",
       "version_major": 2,
       "version_minor": 0
      },
      "text/plain": [
       "Pandas Apply:   0%|          | 0/5 [00:00<?, ?it/s]"
      ]
     },
     "metadata": {},
     "output_type": "display_data"
    },
    {
     "data": {
      "application/vnd.jupyter.widget-view+json": {
       "model_id": "9083928a55ee486292e0c2815010bbe0",
       "version_major": 2,
       "version_minor": 0
      },
      "text/plain": [
       "Pandas Apply:   0%|          | 0/5 [00:00<?, ?it/s]"
      ]
     },
     "metadata": {},
     "output_type": "display_data"
    },
    {
     "data": {
      "application/vnd.jupyter.widget-view+json": {
       "model_id": "f0ff48e6617e44eeaa9893c9a85bc4a4",
       "version_major": 2,
       "version_minor": 0
      },
      "text/plain": [
       "Pandas Apply:   0%|          | 0/5 [00:00<?, ?it/s]"
      ]
     },
     "metadata": {},
     "output_type": "display_data"
    },
    {
     "name": "stdout",
     "output_type": "stream",
     "text": [
      "The input Threshold was 10\n",
      "The calculated threshold is 8.411247495500604\n"
     ]
    },
    {
     "data": {
      "application/vnd.jupyter.widget-view+json": {
       "model_id": "af158c30d9b1424c91e13dc83abe4390",
       "version_major": 2,
       "version_minor": 0
      },
      "text/plain": [
       "Pandas Apply:   0%|          | 0/373 [00:00<?, ?it/s]"
      ]
     },
     "metadata": {},
     "output_type": "display_data"
    },
    {
     "data": {
      "application/vnd.jupyter.widget-view+json": {
       "model_id": "7f856081134f4bce96842d9791dc5860",
       "version_major": 2,
       "version_minor": 0
      },
      "text/plain": [
       "Pandas Apply:   0%|          | 0/373 [00:00<?, ?it/s]"
      ]
     },
     "metadata": {},
     "output_type": "display_data"
    },
    {
     "data": {
      "application/vnd.jupyter.widget-view+json": {
       "model_id": "47089b1fe877448abcb8d7dacc8dbf31",
       "version_major": 2,
       "version_minor": 0
      },
      "text/plain": [
       "Pandas Apply:   0%|          | 0/373 [00:00<?, ?it/s]"
      ]
     },
     "metadata": {},
     "output_type": "display_data"
    },
    {
     "data": {
      "application/vnd.jupyter.widget-view+json": {
       "model_id": "5ea492d429fb46f5bef4cab2185ad399",
       "version_major": 2,
       "version_minor": 0
      },
      "text/plain": [
       "Pandas Apply:   0%|          | 0/373 [00:00<?, ?it/s]"
      ]
     },
     "metadata": {},
     "output_type": "display_data"
    },
    {
     "data": {
      "application/vnd.jupyter.widget-view+json": {
       "model_id": "f12524765eaf498aa6f2b095b7998022",
       "version_major": 2,
       "version_minor": 0
      },
      "text/plain": [
       "Pandas Apply:   0%|          | 0/373 [00:00<?, ?it/s]"
      ]
     },
     "metadata": {},
     "output_type": "display_data"
    },
    {
     "data": {
      "application/vnd.jupyter.widget-view+json": {
       "model_id": "18418d9ad7074f34948be6c500a0bbb6",
       "version_major": 2,
       "version_minor": 0
      },
      "text/plain": [
       "Pandas Apply:   0%|          | 0/5 [00:00<?, ?it/s]"
      ]
     },
     "metadata": {},
     "output_type": "display_data"
    },
    {
     "data": {
      "application/vnd.jupyter.widget-view+json": {
       "model_id": "81b7e1049e2e4f0e9cf76cc08cf9b001",
       "version_major": 2,
       "version_minor": 0
      },
      "text/plain": [
       "Pandas Apply:   0%|          | 0/5 [00:00<?, ?it/s]"
      ]
     },
     "metadata": {},
     "output_type": "display_data"
    },
    {
     "data": {
      "application/vnd.jupyter.widget-view+json": {
       "model_id": "83f7ede22fa54ff9b7ebad491591e669",
       "version_major": 2,
       "version_minor": 0
      },
      "text/plain": [
       "Pandas Apply:   0%|          | 0/5 [00:00<?, ?it/s]"
      ]
     },
     "metadata": {},
     "output_type": "display_data"
    },
    {
     "data": {
      "application/vnd.jupyter.widget-view+json": {
       "model_id": "dee11306fcc14196b0a8e69d784d8e28",
       "version_major": 2,
       "version_minor": 0
      },
      "text/plain": [
       "Pandas Apply:   0%|          | 0/5 [00:00<?, ?it/s]"
      ]
     },
     "metadata": {},
     "output_type": "display_data"
    },
    {
     "name": "stdout",
     "output_type": "stream",
     "text": [
      "The input Threshold was 10\n",
      "The calculated threshold is 7.592642510985155\n"
     ]
    },
    {
     "data": {
      "application/vnd.jupyter.widget-view+json": {
       "model_id": "7e0e2f4fcf1048c29bdbbdcacb839ca3",
       "version_major": 2,
       "version_minor": 0
      },
      "text/plain": [
       "Pandas Apply:   0%|          | 0/373 [00:00<?, ?it/s]"
      ]
     },
     "metadata": {},
     "output_type": "display_data"
    },
    {
     "data": {
      "application/vnd.jupyter.widget-view+json": {
       "model_id": "96c645cfd6584803afcbc452f3620f30",
       "version_major": 2,
       "version_minor": 0
      },
      "text/plain": [
       "Pandas Apply:   0%|          | 0/373 [00:00<?, ?it/s]"
      ]
     },
     "metadata": {},
     "output_type": "display_data"
    },
    {
     "data": {
      "application/vnd.jupyter.widget-view+json": {
       "model_id": "3bc022c5fdaf492e86336cd34eae2cce",
       "version_major": 2,
       "version_minor": 0
      },
      "text/plain": [
       "Pandas Apply:   0%|          | 0/373 [00:00<?, ?it/s]"
      ]
     },
     "metadata": {},
     "output_type": "display_data"
    },
    {
     "data": {
      "application/vnd.jupyter.widget-view+json": {
       "model_id": "9222b55b664b411d92ad0f63c8b0f81a",
       "version_major": 2,
       "version_minor": 0
      },
      "text/plain": [
       "Pandas Apply:   0%|          | 0/373 [00:00<?, ?it/s]"
      ]
     },
     "metadata": {},
     "output_type": "display_data"
    },
    {
     "data": {
      "application/vnd.jupyter.widget-view+json": {
       "model_id": "6856a3496d0344db9b9bf1a6d1e5057c",
       "version_major": 2,
       "version_minor": 0
      },
      "text/plain": [
       "Pandas Apply:   0%|          | 0/373 [00:00<?, ?it/s]"
      ]
     },
     "metadata": {},
     "output_type": "display_data"
    },
    {
     "data": {
      "application/vnd.jupyter.widget-view+json": {
       "model_id": "03347e2754ca4f1e8bebd121c6afc7ee",
       "version_major": 2,
       "version_minor": 0
      },
      "text/plain": [
       "Pandas Apply:   0%|          | 0/5 [00:00<?, ?it/s]"
      ]
     },
     "metadata": {},
     "output_type": "display_data"
    },
    {
     "data": {
      "application/vnd.jupyter.widget-view+json": {
       "model_id": "9e815cea7d8447db81769248e9bfb3a6",
       "version_major": 2,
       "version_minor": 0
      },
      "text/plain": [
       "Pandas Apply:   0%|          | 0/5 [00:00<?, ?it/s]"
      ]
     },
     "metadata": {},
     "output_type": "display_data"
    },
    {
     "data": {
      "application/vnd.jupyter.widget-view+json": {
       "model_id": "2356941a05404e049fc1a95264dc182d",
       "version_major": 2,
       "version_minor": 0
      },
      "text/plain": [
       "Pandas Apply:   0%|          | 0/5 [00:00<?, ?it/s]"
      ]
     },
     "metadata": {},
     "output_type": "display_data"
    },
    {
     "data": {
      "application/vnd.jupyter.widget-view+json": {
       "model_id": "c88498a196f849fbb0a6e736c0fd9b69",
       "version_major": 2,
       "version_minor": 0
      },
      "text/plain": [
       "Pandas Apply:   0%|          | 0/5 [00:00<?, ?it/s]"
      ]
     },
     "metadata": {},
     "output_type": "display_data"
    },
    {
     "data": {
      "application/vnd.jupyter.widget-view+json": {
       "model_id": "1595d0a4f6374e62b2d6ec0e0a8d2172",
       "version_major": 2,
       "version_minor": 0
      },
      "text/plain": [
       "Pandas Apply:   0%|          | 0/5 [00:00<?, ?it/s]"
      ]
     },
     "metadata": {},
     "output_type": "display_data"
    },
    {
     "name": "stdout",
     "output_type": "stream",
     "text": [
      "The input Threshold was 10\n",
      "The calculated threshold is 6.832742226460928\n"
     ]
    },
    {
     "data": {
      "application/vnd.jupyter.widget-view+json": {
       "model_id": "b5390933444a4512922a7f12b509e878",
       "version_major": 2,
       "version_minor": 0
      },
      "text/plain": [
       "Pandas Apply:   0%|          | 0/373 [00:00<?, ?it/s]"
      ]
     },
     "metadata": {},
     "output_type": "display_data"
    },
    {
     "data": {
      "application/vnd.jupyter.widget-view+json": {
       "model_id": "fe8673932f1140eeac7da4b222fb33f1",
       "version_major": 2,
       "version_minor": 0
      },
      "text/plain": [
       "Pandas Apply:   0%|          | 0/373 [00:00<?, ?it/s]"
      ]
     },
     "metadata": {},
     "output_type": "display_data"
    },
    {
     "data": {
      "application/vnd.jupyter.widget-view+json": {
       "model_id": "f4e1650315464e57bd62828c6713e3b9",
       "version_major": 2,
       "version_minor": 0
      },
      "text/plain": [
       "Pandas Apply:   0%|          | 0/373 [00:00<?, ?it/s]"
      ]
     },
     "metadata": {},
     "output_type": "display_data"
    },
    {
     "data": {
      "application/vnd.jupyter.widget-view+json": {
       "model_id": "e1f4ac9e352b4bad8c8adb77b8b65beb",
       "version_major": 2,
       "version_minor": 0
      },
      "text/plain": [
       "Pandas Apply:   0%|          | 0/373 [00:00<?, ?it/s]"
      ]
     },
     "metadata": {},
     "output_type": "display_data"
    },
    {
     "data": {
      "application/vnd.jupyter.widget-view+json": {
       "model_id": "35c24acfc47e4d6aae6cf42f98bc7c8a",
       "version_major": 2,
       "version_minor": 0
      },
      "text/plain": [
       "Pandas Apply:   0%|          | 0/373 [00:00<?, ?it/s]"
      ]
     },
     "metadata": {},
     "output_type": "display_data"
    },
    {
     "data": {
      "application/vnd.jupyter.widget-view+json": {
       "model_id": "6c29317daaf047049d391172fb759d80",
       "version_major": 2,
       "version_minor": 0
      },
      "text/plain": [
       "Pandas Apply:   0%|          | 0/5 [00:00<?, ?it/s]"
      ]
     },
     "metadata": {},
     "output_type": "display_data"
    },
    {
     "data": {
      "application/vnd.jupyter.widget-view+json": {
       "model_id": "4cfcb58dc84a481ab917c65ab2bb246d",
       "version_major": 2,
       "version_minor": 0
      },
      "text/plain": [
       "Pandas Apply:   0%|          | 0/5 [00:00<?, ?it/s]"
      ]
     },
     "metadata": {},
     "output_type": "display_data"
    },
    {
     "data": {
      "application/vnd.jupyter.widget-view+json": {
       "model_id": "375916bd823d4a62b32ccea011202494",
       "version_major": 2,
       "version_minor": 0
      },
      "text/plain": [
       "Pandas Apply:   0%|          | 0/5 [00:00<?, ?it/s]"
      ]
     },
     "metadata": {},
     "output_type": "display_data"
    },
    {
     "name": "stdout",
     "output_type": "stream",
     "text": [
      "The input Threshold was 10\n",
      "The calculated threshold is 8.534314000299487\n"
     ]
    },
    {
     "data": {
      "application/vnd.jupyter.widget-view+json": {
       "model_id": "b4c3e65826e1471598260a3e307753a5",
       "version_major": 2,
       "version_minor": 0
      },
      "text/plain": [
       "Pandas Apply:   0%|          | 0/373 [00:00<?, ?it/s]"
      ]
     },
     "metadata": {},
     "output_type": "display_data"
    },
    {
     "data": {
      "application/vnd.jupyter.widget-view+json": {
       "model_id": "7aa9d272e74f4493b722902ae09c2c1e",
       "version_major": 2,
       "version_minor": 0
      },
      "text/plain": [
       "Pandas Apply:   0%|          | 0/373 [00:00<?, ?it/s]"
      ]
     },
     "metadata": {},
     "output_type": "display_data"
    },
    {
     "data": {
      "application/vnd.jupyter.widget-view+json": {
       "model_id": "a6eba01f56634fdf81d80fcbb72ca626",
       "version_major": 2,
       "version_minor": 0
      },
      "text/plain": [
       "Pandas Apply:   0%|          | 0/373 [00:00<?, ?it/s]"
      ]
     },
     "metadata": {},
     "output_type": "display_data"
    },
    {
     "data": {
      "application/vnd.jupyter.widget-view+json": {
       "model_id": "b9a325a2694c4830b28908bdddd0cbba",
       "version_major": 2,
       "version_minor": 0
      },
      "text/plain": [
       "Pandas Apply:   0%|          | 0/373 [00:00<?, ?it/s]"
      ]
     },
     "metadata": {},
     "output_type": "display_data"
    },
    {
     "data": {
      "application/vnd.jupyter.widget-view+json": {
       "model_id": "088b98941193431ba4c53d421240ee2c",
       "version_major": 2,
       "version_minor": 0
      },
      "text/plain": [
       "Pandas Apply:   0%|          | 0/373 [00:00<?, ?it/s]"
      ]
     },
     "metadata": {},
     "output_type": "display_data"
    },
    {
     "data": {
      "application/vnd.jupyter.widget-view+json": {
       "model_id": "d73602c57f864dd3b75957137a8c56ef",
       "version_major": 2,
       "version_minor": 0
      },
      "text/plain": [
       "Pandas Apply:   0%|          | 0/5 [00:00<?, ?it/s]"
      ]
     },
     "metadata": {},
     "output_type": "display_data"
    },
    {
     "data": {
      "application/vnd.jupyter.widget-view+json": {
       "model_id": "d019a8dd3d3f42d5b9e7eb2207712a5b",
       "version_major": 2,
       "version_minor": 0
      },
      "text/plain": [
       "Pandas Apply:   0%|          | 0/5 [00:00<?, ?it/s]"
      ]
     },
     "metadata": {},
     "output_type": "display_data"
    },
    {
     "data": {
      "application/vnd.jupyter.widget-view+json": {
       "model_id": "f52340c505ce42ecb84834a30a3fd869",
       "version_major": 2,
       "version_minor": 0
      },
      "text/plain": [
       "Pandas Apply:   0%|          | 0/5 [00:00<?, ?it/s]"
      ]
     },
     "metadata": {},
     "output_type": "display_data"
    },
    {
     "data": {
      "application/vnd.jupyter.widget-view+json": {
       "model_id": "cdb93d9cb430456d905c6534e5a715b5",
       "version_major": 2,
       "version_minor": 0
      },
      "text/plain": [
       "Pandas Apply:   0%|          | 0/5 [00:00<?, ?it/s]"
      ]
     },
     "metadata": {},
     "output_type": "display_data"
    },
    {
     "name": "stdout",
     "output_type": "stream",
     "text": [
      "The input Threshold was 10\n",
      "The calculated threshold is 5.473125068174849\n"
     ]
    }
   ],
   "source": [
    "principal_components_real_part=principal_components.copy()\n",
    "principal_components_real_part=principal_components_real_part.applymap(lambda x:x.real)\n",
    "error_values=[]\n",
    "for no_of_experiments in range(1,21):\n",
    "    final_centroids,sum_of_squared_error,sil_score,chs_score,run_time=kmeans_llyod(principal_components_real_part,5,10,100)\n",
    "    error_values.append([5,no_of_experiments,sum_of_squared_error,sil_score,chs_score,run_time])\n",
    "error_values_df_PCA= pd.DataFrame(error_values,columns=['No_of_Clusters', 'Iteration Number','Sum_of_squared_Errors','Silheoutte_Score','Chs_score','run_time'])  \n"
   ]
  },
  {
   "cell_type": "code",
   "execution_count": 188,
   "id": "8ef0623f",
   "metadata": {},
   "outputs": [],
   "source": [
    "error_values_df_PCA.to_csv('K_means_after_pca_90_percent.csv')"
   ]
  },
  {
   "cell_type": "code",
   "execution_count": 230,
   "id": "acc25945",
   "metadata": {},
   "outputs": [
    {
     "data": {
      "text/plain": [
       "Index(['No_of_Clusters', 'Iteration Number', 'Sum_of_squared_Errors',\n",
       "       'Silheoutte_Score', 'Chs_score', 'run_time'],\n",
       "      dtype='object')"
      ]
     },
     "execution_count": 230,
     "metadata": {},
     "output_type": "execute_result"
    }
   ],
   "source": [
    "error_values_df_PCA.columns"
   ]
  },
  {
   "cell_type": "markdown",
   "id": "ff35d43c",
   "metadata": {},
   "source": [
    "# Plotting graphs"
   ]
  },
  {
   "cell_type": "code",
   "execution_count": 231,
   "id": "dbd3f165",
   "metadata": {},
   "outputs": [
    {
     "data": {
      "image/png": "[encoded data removed]",
      "text/plain": [
       "<Figure size 432x288 with 1 Axes>"
      ]
     },
     "metadata": {
      "needs_background": "light"
     },
     "output_type": "display_data"
    }
   ],
   "source": [
    "combined_df = pd.concat([error_values_before,error_values_df_PCA], keys=['Before_PCA','After_PCA'])\n",
    "plt.boxplot([combined_df.loc['Before_PCA']['Sum_of_squared_Errors'], combined_df.loc['After_PCA']['Sum_of_squared_Errors']])\n",
    "plt.xticks([1, 2], ['Before_PCA', 'After_PCA'])\n",
    "plt.ylabel('Sum of square error')\n",
    "plt.title('Box Plot for SSE before and after PCA using Kmeans')\n",
    "plt.show()"
   ]
  },
  {
   "cell_type": "code",
   "execution_count": 232,
   "id": "6f930269",
   "metadata": {},
   "outputs": [
    {
     "data": {
      "image/png": "[encoded data removed]",
      "text/plain": [
       "<Figure size 432x288 with 1 Axes>"
      ]
     },
     "metadata": {
      "needs_background": "light"
     },
     "output_type": "display_data"
    }
   ],
   "source": [
    "combined_df = pd.concat([error_values_before,error_values_df_PCA], keys=['Before_PCA','After_PCA'])\n",
    "plt.boxplot([combined_df.loc['Before_PCA']['Silheoutte_Score'], combined_df.loc['After_PCA']['Silheoutte_Score']])\n",
    "plt.xticks([1, 2], ['Before_PCA', 'After_PCA'])\n",
    "plt.ylabel('Silheoutte_Score')\n",
    "plt.title('Box Plot for Silheoutte_Score before and after PCA using Kmeans')\n",
    "plt.show()"
   ]
  },
  {
   "cell_type": "code",
   "execution_count": 235,
   "id": "46f5e980",
   "metadata": {},
   "outputs": [
    {
     "data": {
      "image/png": "[encoded data removed]",
      "text/plain": [
       "<Figure size 432x288 with 1 Axes>"
      ]
     },
     "metadata": {
      "needs_background": "light"
     },
     "output_type": "display_data"
    }
   ],
   "source": [
    "combined_df = pd.concat([error_values_before,error_values_df_PCA], keys=['Before_PCA','After_PCA'])\n",
    "plt.boxplot([combined_df.loc['Before_PCA']['run_time'], combined_df.loc['After_PCA']['run_time']])\n",
    "plt.xticks([1, 2], ['Before_PCA', 'After_PCA'])\n",
    "plt.ylabel('run_time')\n",
    "plt.title('Box Plot for run_time before and after PCA using Kmeans')\n",
    "plt.show()"
   ]
  },
  {
   "cell_type": "markdown",
   "id": "9e721969",
   "metadata": {},
   "source": [
    "# End of Document"
   ]
  }
 ],
 "metadata": {
  "kernelspec": {
   "display_name": "Python 3 (ipykernel)",
   "language": "python",
   "name": "python3"
  },
  "language_info": {
   "codemirror_mode": {
    "name": "ipython",
    "version": 3
   },
   "file_extension": ".py",
   "mimetype": "text/x-python",
   "name": "python",
   "nbconvert_exporter": "python",
   "pygments_lexer": "ipython3",
   "version": "3.9.8"
  }
 },
 "nbformat": 4,
 "nbformat_minor": 5
}
